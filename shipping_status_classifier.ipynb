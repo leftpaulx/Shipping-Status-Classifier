{
 "cells": [
  {
   "cell_type": "code",
   "execution_count": 3,
   "metadata": {},
   "outputs": [],
   "source": [
    "import pandas as pd\n",
    "import numpy as np\n",
    "import matplotlib.pyplot as plt\n",
    "import seaborn as sns\n",
    "import re\n",
    "import time"
   ]
  },
  {
   "cell_type": "markdown",
   "metadata": {},
   "source": [
    "## Data Import"
   ]
  },
  {
   "cell_type": "code",
   "execution_count": 4,
   "metadata": {},
   "outputs": [],
   "source": [
    "df1=pd.read_csv('shipping_tag1.csv')\n",
    "df2=pd.read_csv('shipping_tag2.csv')"
   ]
  },
  {
   "cell_type": "code",
   "execution_count": 5,
   "metadata": {},
   "outputs": [
    {
     "data": {
      "text/html": [
       "<div>\n",
       "<style scoped>\n",
       "    .dataframe tbody tr th:only-of-type {\n",
       "        vertical-align: middle;\n",
       "    }\n",
       "\n",
       "    .dataframe tbody tr th {\n",
       "        vertical-align: top;\n",
       "    }\n",
       "\n",
       "    .dataframe thead th {\n",
       "        text-align: right;\n",
       "    }\n",
       "</style>\n",
       "<table border=\"1\" class=\"dataframe\">\n",
       "  <thead>\n",
       "    <tr style=\"text-align: right;\">\n",
       "      <th></th>\n",
       "      <th>tag</th>\n",
       "      <th>message</th>\n",
       "    </tr>\n",
       "  </thead>\n",
       "  <tbody>\n",
       "    <tr>\n",
       "      <th>177841</th>\n",
       "      <td>InTransit</td>\n",
       "      <td>Package processed</td>\n",
       "    </tr>\n",
       "    <tr>\n",
       "      <th>763177</th>\n",
       "      <td>OutForDelivery</td>\n",
       "      <td>Out for Delivery</td>\n",
       "    </tr>\n",
       "    <tr>\n",
       "      <th>595029</th>\n",
       "      <td>InTransit</td>\n",
       "      <td>Incoming data delivery by the sender</td>\n",
       "    </tr>\n",
       "    <tr>\n",
       "      <th>429463</th>\n",
       "      <td>InTransit</td>\n",
       "      <td>La verifica per lo svincolo della spedizione è...</td>\n",
       "    </tr>\n",
       "    <tr>\n",
       "      <th>665290</th>\n",
       "      <td>InfoReceived</td>\n",
       "      <td>Order information received</td>\n",
       "    </tr>\n",
       "    <tr>\n",
       "      <th>97891</th>\n",
       "      <td>InTransit</td>\n",
       "      <td>Shipment tendered to UPS Mail Innovations</td>\n",
       "    </tr>\n",
       "    <tr>\n",
       "      <th>387220</th>\n",
       "      <td>InTransit</td>\n",
       "      <td>Accepted at USPS Destination Sort Facility</td>\n",
       "    </tr>\n",
       "    <tr>\n",
       "      <th>753433</th>\n",
       "      <td>OutForDelivery</td>\n",
       "      <td>Out for Delivery</td>\n",
       "    </tr>\n",
       "    <tr>\n",
       "      <th>191695</th>\n",
       "      <td>InTransit</td>\n",
       "      <td>Arrived at UPS Facility</td>\n",
       "    </tr>\n",
       "    <tr>\n",
       "      <th>160923</th>\n",
       "      <td>InfoReceived</td>\n",
       "      <td>Parcel Data Received, Shipment In Route To US ...</td>\n",
       "    </tr>\n",
       "  </tbody>\n",
       "</table>\n",
       "</div>"
      ],
      "text/plain": [
       "                   tag                                            message\n",
       "177841       InTransit                                  Package processed\n",
       "763177  OutForDelivery                                   Out for Delivery\n",
       "595029       InTransit               Incoming data delivery by the sender\n",
       "429463       InTransit  La verifica per lo svincolo della spedizione è...\n",
       "665290    InfoReceived                         Order information received\n",
       "97891        InTransit          Shipment tendered to UPS Mail Innovations\n",
       "387220       InTransit         Accepted at USPS Destination Sort Facility\n",
       "753433  OutForDelivery                                   Out for Delivery\n",
       "191695       InTransit                            Arrived at UPS Facility\n",
       "160923    InfoReceived  Parcel Data Received, Shipment In Route To US ..."
      ]
     },
     "execution_count": 5,
     "metadata": {},
     "output_type": "execute_result"
    }
   ],
   "source": [
    "df1.sample(10)\n"
   ]
  },
  {
   "cell_type": "code",
   "execution_count": 6,
   "metadata": {},
   "outputs": [
    {
     "data": {
      "text/html": [
       "<div>\n",
       "<style scoped>\n",
       "    .dataframe tbody tr th:only-of-type {\n",
       "        vertical-align: middle;\n",
       "    }\n",
       "\n",
       "    .dataframe tbody tr th {\n",
       "        vertical-align: top;\n",
       "    }\n",
       "\n",
       "    .dataframe thead th {\n",
       "        text-align: right;\n",
       "    }\n",
       "</style>\n",
       "<table border=\"1\" class=\"dataframe\">\n",
       "  <thead>\n",
       "    <tr style=\"text-align: right;\">\n",
       "      <th></th>\n",
       "      <th>tag</th>\n",
       "      <th>message</th>\n",
       "      <th>original_message</th>\n",
       "    </tr>\n",
       "  </thead>\n",
       "  <tbody>\n",
       "    <tr>\n",
       "      <th>0</th>\n",
       "      <td>AttemptFail</td>\n",
       "      <td>Vi har været forbi med din forsendelse, men vi...</td>\n",
       "      <td>NaN</td>\n",
       "    </tr>\n",
       "    <tr>\n",
       "      <th>1</th>\n",
       "      <td>AttemptFail</td>\n",
       "      <td>ATTEMPTED DELIVERY</td>\n",
       "      <td>NaN</td>\n",
       "    </tr>\n",
       "    <tr>\n",
       "      <th>2</th>\n",
       "      <td>AttemptFail</td>\n",
       "      <td>Delivery attempt</td>\n",
       "      <td>NaN</td>\n",
       "    </tr>\n",
       "    <tr>\n",
       "      <th>3</th>\n",
       "      <td>AttemptFail</td>\n",
       "      <td>Delivery was not possible. The recipient will ...</td>\n",
       "      <td>NaN</td>\n",
       "    </tr>\n",
       "    <tr>\n",
       "      <th>4</th>\n",
       "      <td>AttemptFail</td>\n",
       "      <td>Vi har været forbi med din forsendelse, men vi...</td>\n",
       "      <td>NaN</td>\n",
       "    </tr>\n",
       "  </tbody>\n",
       "</table>\n",
       "</div>"
      ],
      "text/plain": [
       "           tag                                            message  \\\n",
       "0  AttemptFail  Vi har været forbi med din forsendelse, men vi...   \n",
       "1  AttemptFail                                 ATTEMPTED DELIVERY   \n",
       "2  AttemptFail                                   Delivery attempt   \n",
       "3  AttemptFail  Delivery was not possible. The recipient will ...   \n",
       "4  AttemptFail  Vi har været forbi med din forsendelse, men vi...   \n",
       "\n",
       "  original_message  \n",
       "0              NaN  \n",
       "1              NaN  \n",
       "2              NaN  \n",
       "3              NaN  \n",
       "4              NaN  "
      ]
     },
     "execution_count": 6,
     "metadata": {},
     "output_type": "execute_result"
    }
   ],
   "source": [
    "df2.head()"
   ]
  },
  {
   "cell_type": "code",
   "execution_count": 7,
   "metadata": {},
   "outputs": [],
   "source": [
    "del df2['original_message']"
   ]
  },
  {
   "cell_type": "code",
   "execution_count": 8,
   "metadata": {},
   "outputs": [],
   "source": [
    "df=pd.concat([df1,df2])"
   ]
  },
  {
   "cell_type": "code",
   "execution_count": 9,
   "metadata": {},
   "outputs": [
    {
     "data": {
      "text/html": [
       "<div>\n",
       "<style scoped>\n",
       "    .dataframe tbody tr th:only-of-type {\n",
       "        vertical-align: middle;\n",
       "    }\n",
       "\n",
       "    .dataframe tbody tr th {\n",
       "        vertical-align: top;\n",
       "    }\n",
       "\n",
       "    .dataframe thead th {\n",
       "        text-align: right;\n",
       "    }\n",
       "</style>\n",
       "<table border=\"1\" class=\"dataframe\">\n",
       "  <thead>\n",
       "    <tr style=\"text-align: right;\">\n",
       "      <th></th>\n",
       "      <th>tag</th>\n",
       "      <th>message</th>\n",
       "    </tr>\n",
       "  </thead>\n",
       "  <tbody>\n",
       "    <tr>\n",
       "      <th>0</th>\n",
       "      <td>AttemptFail</td>\n",
       "      <td>Próba doręczenia</td>\n",
       "    </tr>\n",
       "    <tr>\n",
       "      <th>1</th>\n",
       "      <td>AttemptFail</td>\n",
       "      <td>Delivery attempt</td>\n",
       "    </tr>\n",
       "    <tr>\n",
       "      <th>2</th>\n",
       "      <td>AttemptFail</td>\n",
       "      <td>Vi har været forbi med din forsendelse, men vi...</td>\n",
       "    </tr>\n",
       "    <tr>\n",
       "      <th>3</th>\n",
       "      <td>AttemptFail</td>\n",
       "      <td>Delivery attempt</td>\n",
       "    </tr>\n",
       "    <tr>\n",
       "      <th>4</th>\n",
       "      <td>AttemptFail</td>\n",
       "      <td>Delivery attempted; recipient not home</td>\n",
       "    </tr>\n",
       "  </tbody>\n",
       "</table>\n",
       "</div>"
      ],
      "text/plain": [
       "           tag                                            message\n",
       "0  AttemptFail                                   Próba doręczenia\n",
       "1  AttemptFail                                   Delivery attempt\n",
       "2  AttemptFail  Vi har været forbi med din forsendelse, men vi...\n",
       "3  AttemptFail                                   Delivery attempt\n",
       "4  AttemptFail             Delivery attempted; recipient not home"
      ]
     },
     "execution_count": 9,
     "metadata": {},
     "output_type": "execute_result"
    }
   ],
   "source": [
    "df.head()"
   ]
  },
  {
   "cell_type": "markdown",
   "metadata": {},
   "source": [
    "## Data Cleaning"
   ]
  },
  {
   "cell_type": "code",
   "execution_count": 10,
   "metadata": {},
   "outputs": [
    {
     "data": {
      "text/plain": [
       "953786"
      ]
     },
     "execution_count": 10,
     "metadata": {},
     "output_type": "execute_result"
    }
   ],
   "source": [
    "#check duplicates\n",
    "sum(df.duplicated())"
   ]
  },
  {
   "cell_type": "code",
   "execution_count": 11,
   "metadata": {},
   "outputs": [],
   "source": [
    "df.drop_duplicates(inplace=True)"
   ]
  },
  {
   "cell_type": "code",
   "execution_count": 12,
   "metadata": {},
   "outputs": [
    {
     "data": {
      "text/plain": [
       "137"
      ]
     },
     "execution_count": 12,
     "metadata": {},
     "output_type": "execute_result"
    }
   ],
   "source": [
    "#check messages with multiple tags\n",
    "message_count=df['message'].value_counts()\n",
    "dup_message=message_count[message_count>1].index\n",
    "len(dup_message)"
   ]
  },
  {
   "cell_type": "code",
   "execution_count": 13,
   "metadata": {},
   "outputs": [],
   "source": [
    "#drop those with multiple tags\n",
    "df=df[~df['message'].isin(dup_message)]"
   ]
  },
  {
   "cell_type": "code",
   "execution_count": 14,
   "metadata": {},
   "outputs": [
    {
     "data": {
      "text/plain": [
       "InTransit             4661\n",
       "Delivered             1862\n",
       "AvailableForPickup     459\n",
       "Exception              273\n",
       "AttemptFail            216\n",
       "InfoReceived           191\n",
       "OutForDelivery         174\n",
       "Name: tag, dtype: int64"
      ]
     },
     "execution_count": 14,
     "metadata": {},
     "output_type": "execute_result"
    }
   ],
   "source": [
    "## imbalance class\n",
    "df.tag.value_counts()"
   ]
  },
  {
   "cell_type": "code",
   "execution_count": 15,
   "metadata": {},
   "outputs": [],
   "source": [
    "## Bootstraping other classes except for InTransit\n",
    "df_delivered=df[df['tag']=='Delivered'].sample(n=len(df[df['tag']=='InTransit']),replace=True)\n",
    "df_intransit=df[df['tag']=='InTransit']\n",
    "df_availableforpickup=df[df['tag']=='AvailableForPickup'].sample(n=len(df[df['tag']=='InTransit']),replace=True)\n",
    "df_exception=df[df['tag']=='Exception'].sample(n=len(df[df['tag']=='InTransit']),replace=True)\n",
    "df_attemptfail=df[df['tag']=='AttemptFail'].sample(n=len(df[df['tag']=='InTransit']),replace=True)\n",
    "df_inforeceived=df[df['tag']=='InfoReceived'].sample(n=len(df[df['tag']=='InTransit']),replace=True)\n",
    "df_outfordelivery=df[df['tag']=='OutForDelivery'].sample(n=len(df[df['tag']=='InTransit']),replace=True)"
   ]
  },
  {
   "cell_type": "code",
   "execution_count": 16,
   "metadata": {},
   "outputs": [],
   "source": [
    "df=pd.concat([df_delivered,df_intransit,df_availableforpickup,df_exception,df_attemptfail,df_inforeceived,df_outfordelivery])"
   ]
  },
  {
   "cell_type": "code",
   "execution_count": 17,
   "metadata": {},
   "outputs": [
    {
     "data": {
      "text/plain": [
       "(array([0, 1, 2, 3, 4, 5, 6]),\n",
       " [Text(0, 0, 'Delivered'),\n",
       "  Text(1, 0, 'InTransit'),\n",
       "  Text(2, 0, 'AvailableForPickup'),\n",
       "  Text(3, 0, 'Exception'),\n",
       "  Text(4, 0, 'AttemptFail'),\n",
       "  Text(5, 0, 'InfoReceived'),\n",
       "  Text(6, 0, 'OutForDelivery')])"
      ]
     },
     "execution_count": 17,
     "metadata": {},
     "output_type": "execute_result"
    },
    {
     "data": {
      "image/png": "[encoded data removed]",
      "text/plain": [
       "<Figure size 432x288 with 1 Axes>"
      ]
     },
     "metadata": {
      "needs_background": "light"
     },
     "output_type": "display_data"
    }
   ],
   "source": [
    "sns.countplot(data=df,x='tag')\n",
    "plt.xticks(rotation=90)"
   ]
  },
  {
   "cell_type": "code",
   "execution_count": 18,
   "metadata": {},
   "outputs": [],
   "source": [
    "df['tag']=df['tag'].astype('category')\n",
    "df['tag_code']=df['tag'].cat.codes\n",
    "code_map=dict(zip(df['tag'].cat.codes,df['tag']))"
   ]
  },
  {
   "cell_type": "code",
   "execution_count": 19,
   "metadata": {},
   "outputs": [
    {
     "data": {
      "text/html": [
       "<div>\n",
       "<style scoped>\n",
       "    .dataframe tbody tr th:only-of-type {\n",
       "        vertical-align: middle;\n",
       "    }\n",
       "\n",
       "    .dataframe tbody tr th {\n",
       "        vertical-align: top;\n",
       "    }\n",
       "\n",
       "    .dataframe thead th {\n",
       "        text-align: right;\n",
       "    }\n",
       "</style>\n",
       "<table border=\"1\" class=\"dataframe\">\n",
       "  <thead>\n",
       "    <tr style=\"text-align: right;\">\n",
       "      <th></th>\n",
       "      <th>tag</th>\n",
       "      <th>message</th>\n",
       "      <th>tag_code</th>\n",
       "    </tr>\n",
       "  </thead>\n",
       "  <tbody>\n",
       "    <tr>\n",
       "      <th>730177</th>\n",
       "      <td>OutForDelivery</td>\n",
       "      <td>The partner Joel Alarcon Blonde arrives at des...</td>\n",
       "      <td>6</td>\n",
       "    </tr>\n",
       "    <tr>\n",
       "      <th>150</th>\n",
       "      <td>AttemptFail</td>\n",
       "      <td>Delivery attempt, recipient is unknown</td>\n",
       "      <td>0</td>\n",
       "    </tr>\n",
       "    <tr>\n",
       "      <th>4549</th>\n",
       "      <td>AvailableForPickup</td>\n",
       "      <td>Awaiting collection at PERTH BUSINESS CENTRE</td>\n",
       "      <td>1</td>\n",
       "    </tr>\n",
       "    <tr>\n",
       "      <th>618817</th>\n",
       "      <td>InfoReceived</td>\n",
       "      <td>Shipment created and label generated APC LAX</td>\n",
       "      <td>5</td>\n",
       "    </tr>\n",
       "    <tr>\n",
       "      <th>708421</th>\n",
       "      <td>OutForDelivery</td>\n",
       "      <td>Your post is out for delivery GREYSTONES, CO W...</td>\n",
       "      <td>6</td>\n",
       "    </tr>\n",
       "    <tr>\n",
       "      <th>...</th>\n",
       "      <td>...</td>\n",
       "      <td>...</td>\n",
       "      <td>...</td>\n",
       "    </tr>\n",
       "    <tr>\n",
       "      <th>767486</th>\n",
       "      <td>Exception</td>\n",
       "      <td>We're not able to deliver your parcel. Please ...</td>\n",
       "      <td>3</td>\n",
       "    </tr>\n",
       "    <tr>\n",
       "      <th>74381</th>\n",
       "      <td>Exception</td>\n",
       "      <td>The street number is incorrect. This may delay...</td>\n",
       "      <td>3</td>\n",
       "    </tr>\n",
       "    <tr>\n",
       "      <th>73315</th>\n",
       "      <td>Exception</td>\n",
       "      <td>EXCEPTION - The parcel has been rescheduled fo...</td>\n",
       "      <td>3</td>\n",
       "    </tr>\n",
       "    <tr>\n",
       "      <th>0</th>\n",
       "      <td>AttemptFail</td>\n",
       "      <td>Próba doręczenia</td>\n",
       "      <td>0</td>\n",
       "    </tr>\n",
       "    <tr>\n",
       "      <th>73072</th>\n",
       "      <td>Exception</td>\n",
       "      <td>Operational Delay (Incorrect Address)</td>\n",
       "      <td>3</td>\n",
       "    </tr>\n",
       "  </tbody>\n",
       "</table>\n",
       "<p>100 rows × 3 columns</p>\n",
       "</div>"
      ],
      "text/plain": [
       "                       tag                                            message  \\\n",
       "730177      OutForDelivery  The partner Joel Alarcon Blonde arrives at des...   \n",
       "150            AttemptFail             Delivery attempt, recipient is unknown   \n",
       "4549    AvailableForPickup       Awaiting collection at PERTH BUSINESS CENTRE   \n",
       "618817        InfoReceived       Shipment created and label generated APC LAX   \n",
       "708421      OutForDelivery  Your post is out for delivery GREYSTONES, CO W...   \n",
       "...                    ...                                                ...   \n",
       "767486           Exception  We're not able to deliver your parcel. Please ...   \n",
       "74381            Exception  The street number is incorrect. This may delay...   \n",
       "73315            Exception  EXCEPTION - The parcel has been rescheduled fo...   \n",
       "0              AttemptFail                                   Próba doręczenia   \n",
       "73072            Exception              Operational Delay (Incorrect Address)   \n",
       "\n",
       "        tag_code  \n",
       "730177         6  \n",
       "150            0  \n",
       "4549           1  \n",
       "618817         5  \n",
       "708421         6  \n",
       "...          ...  \n",
       "767486         3  \n",
       "74381          3  \n",
       "73315          3  \n",
       "0              0  \n",
       "73072          3  \n",
       "\n",
       "[100 rows x 3 columns]"
      ]
     },
     "execution_count": 19,
     "metadata": {},
     "output_type": "execute_result"
    }
   ],
   "source": [
    "df.sample(100)"
   ]
  },
  {
   "cell_type": "markdown",
   "metadata": {},
   "source": [
    "## NLP"
   ]
  },
  {
   "cell_type": "code",
   "execution_count": 109,
   "metadata": {},
   "outputs": [],
   "source": [
    "import spacy\n",
    "import spacy_fastlang\n",
    "##from googletrans import Translator  ## online translator accessing google's api\n",
    "import argostranslate.package       ## offline translator\n",
    "import argostranslate.translate"
   ]
  },
  {
   "cell_type": "code",
   "execution_count": 45,
   "metadata": {},
   "outputs": [
    {
     "name": "stderr",
     "output_type": "stream",
     "text": [
      "Warning : `load_model` does not return WordVectorModel or SupervisedModel any more, but a `FastText` object which is very similar.\n"
     ]
    }
   ],
   "source": [
    "nlp = spacy.load(\"en_core_web_trf\")\n",
    "nlp.add_pipe(\"language_detector\")\n",
    "stopwords = spacy.lang.en.stop_words.STOP_WORDS"
   ]
  },
  {
   "cell_type": "code",
   "execution_count": 46,
   "metadata": {},
   "outputs": [],
   "source": [
    "## build custom stopword list\n",
    "real_stopwords=stopwords-{\"not\",\"n't\",\"out\",'re'}"
   ]
  },
  {
   "cell_type": "code",
   "execution_count": 47,
   "metadata": {},
   "outputs": [],
   "source": [
    "## use ner tag to replace location, name\n",
    "def ner_replacement(article):\n",
    "    doc=nlp(article)\n",
    "    ner=[(token.text,token.label_) for token in doc.ents]\n",
    "    for text, entity in ner:\n",
    "        article=article.replace(text,entity)\n",
    "    return article\n"
   ]
  },
  {
   "cell_type": "code",
   "execution_count": 48,
   "metadata": {},
   "outputs": [
    {
     "data": {
      "text/plain": [
       "'The parcel has been delivered in GPE'"
      ]
     },
     "execution_count": 48,
     "metadata": {},
     "output_type": "execute_result"
    }
   ],
   "source": [
    "## eg\n",
    "ner_replacement('The parcel has been delivered in los angeles')\n"
   ]
  },
  {
   "cell_type": "code",
   "execution_count": 39,
   "metadata": {},
   "outputs": [],
   "source": [
    "arg_support_lang=\\\n",
    "['ar',\n",
    " 'az',\n",
    " 'ca',\n",
    " 'zh',\n",
    " 'cs',\n",
    " 'da',\n",
    " 'nl',\n",
    " 'eo',\n",
    " 'fi',\n",
    " 'fr',\n",
    " 'de',\n",
    " 'el',\n",
    " 'he',\n",
    " 'hi',\n",
    " 'hu',\n",
    " 'id',\n",
    " 'ga',\n",
    " 'it',\n",
    " 'ja',\n",
    " 'ko',\n",
    " 'fa',\n",
    " 'pl',\n",
    " 'pt',\n",
    " 'ru',\n",
    " 'sk',\n",
    " 'es',\n",
    " 'sv',\n",
    " 'th',\n",
    " 'tr',\n",
    " 'uk']"
   ]
  },
  {
   "cell_type": "code",
   "execution_count": 41,
   "metadata": {},
   "outputs": [
    {
     "name": "stderr",
     "output_type": "stream",
     "text": [
      "(IncompleteRead(44003328 bytes read, 69144934 more expected),)\n",
      "(IncompleteRead(80195584 bytes read, 40365639 more expected),)\n"
     ]
    }
   ],
   "source": [
    "\n",
    "#Download and install Argos Translate package, run this cell first time running the code.\n",
    "# from_code =arg_support_lang\n",
    "# argostranslate.package.update_package_index()\n",
    "# available_packages = argostranslate.package.get_available_packages()\n",
    "# for code in from_code:\n",
    "#     package_to_install = next(\n",
    "#         filter(\n",
    "#             lambda x: x.from_code == code, available_packages\n",
    "#         )\n",
    "#     )\n",
    "#     argostranslate.package.install_from_path(package_to_install.download())\n",
    "# package_to_install = next(\n",
    "#         filter(\n",
    "#             lambda x: x.to_code == 'en', available_packages\n",
    "#         )\n",
    "#     )\n",
    "# argostranslate.package.install_from_path(package_to_install.download())"
   ]
  },
  {
   "cell_type": "code",
   "execution_count": 60,
   "metadata": {},
   "outputs": [],
   "source": [
    "## Construct the tokenizer\n",
    "def cust_lemmatizer(article):\n",
    "    doc=nlp(article)\n",
    "    # if doc._.language=='en':\n",
    "    #     en_article=article\n",
    "    if doc._.language in arg_support_lang:\n",
    "        en_article = argostranslate.translate.translate(article, doc._.language, 'en')\n",
    "    else:\n",
    "        en_article=article\n",
    "        # time.sleep(2)\n",
    "        # en_article=Translator().translate(article, dest='en').text\n",
    "    simplified_en_article=ner_replacement(en_article)\n",
    "    clean_en_article=' '.join(re.findall(\"[\\w _\\-']+\",simplified_en_article))\n",
    "    doc1=nlp(clean_en_article)\n",
    "    lemmas=[token.lemma_ for token in doc1 if not token.is_space]\n",
    "    return [lemma for lemma in lemmas if lemma not in real_stopwords]\n",
    "    \n",
    "    "
   ]
  },
  {
   "cell_type": "code",
   "execution_count": 126,
   "metadata": {},
   "outputs": [
    {
     "data": {
      "text/plain": [
       "['parcel', 'deliver', 'GPE']"
      ]
     },
     "execution_count": 126,
     "metadata": {},
     "output_type": "execute_result"
    }
   ],
   "source": [
    "## e.g.\n",
    "cust_lemmatizer(\"The parcel has been delivered in los angeles\")\n"
   ]
  },
  {
   "cell_type": "code",
   "execution_count": 65,
   "metadata": {},
   "outputs": [],
   "source": [
    "X=df.message.values\n",
    "y=df.tag_code.values"
   ]
  },
  {
   "cell_type": "code",
   "execution_count": 66,
   "metadata": {},
   "outputs": [],
   "source": [
    "from sklearn.model_selection import train_test_split\n",
    "X_train,X_test,y_train,y_test=train_test_split(X,y,test_size=0.2,stratify=y,random_state=3)"
   ]
  },
  {
   "cell_type": "code",
   "execution_count": 67,
   "metadata": {},
   "outputs": [],
   "source": [
    "## vectorize messages\n",
    "from sklearn.feature_extraction.text import CountVectorizer\n",
    "vectorizer=CountVectorizer(tokenizer=cust_lemmatizer,ngram_range=(1,2),min_df=3)"
   ]
  },
  {
   "cell_type": "code",
   "execution_count": 68,
   "metadata": {},
   "outputs": [
    {
     "name": "stderr",
     "output_type": "stream",
     "text": [
      "c:\\Users\\paulx\\anaconda3\\lib\\site-packages\\sklearn\\feature_extraction\\text.py:525: UserWarning: The parameter 'token_pattern' will not be used since 'tokenizer' is not None'\n",
      "  warnings.warn(\n"
     ]
    }
   ],
   "source": [
    "X_train_vector=vectorizer.fit_transform(X_train)"
   ]
  },
  {
   "cell_type": "code",
   "execution_count": 69,
   "metadata": {},
   "outputs": [],
   "source": [
    "X_test_vector=vectorizer.transform(X_test)"
   ]
  },
  {
   "cell_type": "code",
   "execution_count": 70,
   "metadata": {},
   "outputs": [
    {
     "name": "stdout",
     "output_type": "stream",
     "text": [
      "(26101, 4515)\n",
      "(6526, 4515)\n"
     ]
    }
   ],
   "source": [
    "print(X_train_vector.toarray().shape)\n",
    "print(X_test_vector.toarray().shape)"
   ]
  },
  {
   "cell_type": "markdown",
   "metadata": {},
   "source": [
    "## Modeling"
   ]
  },
  {
   "cell_type": "code",
   "execution_count": 71,
   "metadata": {},
   "outputs": [],
   "source": [
    "from sklearn.naive_bayes import MultinomialNB\n",
    "from sklearn.model_selection import RandomizedSearchCV\n",
    "from xgboost import XGBClassifier\n",
    "from sklearn.svm import SVC\n",
    "from sklearn.linear_model import LogisticRegression"
   ]
  },
  {
   "cell_type": "code",
   "execution_count": 72,
   "metadata": {},
   "outputs": [],
   "source": [
    "## Algorithm, hyperparamter gridsearch\n",
    "model_params = {\n",
    "    'svm': {\n",
    "        'model': SVC(),\n",
    "        'params' : {\n",
    "            'C': [1, 5,10],\n",
    "            'kernel': ['linear', 'poly', 'rbf', 'sigmoid'],\n",
    "            'gamma': ['scale','auto']\n",
    "        }  \n",
    "    },\n",
    "    'xgboost': {\n",
    "        'model': XGBClassifier(),\n",
    "        'params' : {\n",
    "                'max_depth': [4, 6, 8],\n",
    "                'n_estimators': [ 100, 250,500,750],\n",
    "                \"learning_rate\": [0.01,0.1,0.3],\n",
    "                'colsample_bytree': np.arange(0.5, 1.0, 0.1),\n",
    "                'colsample_bylevel': np.arange(0.5, 1.0, 0.1)\n",
    "        }\n",
    "    },\n",
    "     'nb' : {\n",
    "        'model': MultinomialNB(),\n",
    "        'params': {\n",
    "            'alpha': np.arange(1,10,1)\n",
    "        }\n",
    "     },\n",
    "    'logistics regression' : {\n",
    "    'model': LogisticRegression(),\n",
    "    'params': {\n",
    "        'penalty': ['l2',None],\n",
    "        'solver': ['lbfgs','newton-cg','sag','saga']\n",
    "        }\n",
    "    }\n",
    "}"
   ]
  },
  {
   "cell_type": "code",
   "execution_count": 73,
   "metadata": {},
   "outputs": [
    {
     "name": "stderr",
     "output_type": "stream",
     "text": [
      "c:\\Users\\paulx\\anaconda3\\lib\\site-packages\\sklearn\\model_selection\\_search.py:307: UserWarning: The total space of parameters 24 is smaller than n_iter=30. Running 24 iterations. For exhaustive searches, use GridSearchCV.\n",
      "  warnings.warn(\n",
      "c:\\Users\\paulx\\anaconda3\\lib\\site-packages\\sklearn\\model_selection\\_search.py:307: UserWarning: The total space of parameters 9 is smaller than n_iter=30. Running 9 iterations. For exhaustive searches, use GridSearchCV.\n",
      "  warnings.warn(\n",
      "c:\\Users\\paulx\\anaconda3\\lib\\site-packages\\sklearn\\model_selection\\_search.py:307: UserWarning: The total space of parameters 8 is smaller than n_iter=30. Running 8 iterations. For exhaustive searches, use GridSearchCV.\n",
      "  warnings.warn(\n",
      "c:\\Users\\paulx\\anaconda3\\lib\\site-packages\\sklearn\\linear_model\\_sag.py:350: ConvergenceWarning: The max_iter was reached which means the coef_ did not converge\n",
      "  warnings.warn(\n",
      "c:\\Users\\paulx\\anaconda3\\lib\\site-packages\\sklearn\\linear_model\\_sag.py:350: ConvergenceWarning: The max_iter was reached which means the coef_ did not converge\n",
      "  warnings.warn(\n",
      "c:\\Users\\paulx\\anaconda3\\lib\\site-packages\\sklearn\\linear_model\\_sag.py:350: ConvergenceWarning: The max_iter was reached which means the coef_ did not converge\n",
      "  warnings.warn(\n",
      "c:\\Users\\paulx\\anaconda3\\lib\\site-packages\\sklearn\\linear_model\\_sag.py:350: ConvergenceWarning: The max_iter was reached which means the coef_ did not converge\n",
      "  warnings.warn(\n",
      "c:\\Users\\paulx\\anaconda3\\lib\\site-packages\\sklearn\\linear_model\\_sag.py:350: ConvergenceWarning: The max_iter was reached which means the coef_ did not converge\n",
      "  warnings.warn(\n",
      "c:\\Users\\paulx\\anaconda3\\lib\\site-packages\\sklearn\\linear_model\\_sag.py:350: ConvergenceWarning: The max_iter was reached which means the coef_ did not converge\n",
      "  warnings.warn(\n",
      "c:\\Users\\paulx\\anaconda3\\lib\\site-packages\\sklearn\\linear_model\\_logistic.py:460: ConvergenceWarning: lbfgs failed to converge (status=1):\n",
      "STOP: TOTAL NO. of ITERATIONS REACHED LIMIT.\n",
      "\n",
      "Increase the number of iterations (max_iter) or scale the data as shown in:\n",
      "    https://scikit-learn.org/stable/modules/preprocessing.html\n",
      "Please also refer to the documentation for alternative solver options:\n",
      "    https://scikit-learn.org/stable/modules/linear_model.html#logistic-regression\n",
      "  n_iter_i = _check_optimize_result(\n",
      "c:\\Users\\paulx\\anaconda3\\lib\\site-packages\\sklearn\\linear_model\\_logistic.py:460: ConvergenceWarning: lbfgs failed to converge (status=1):\n",
      "STOP: TOTAL NO. of ITERATIONS REACHED LIMIT.\n",
      "\n",
      "Increase the number of iterations (max_iter) or scale the data as shown in:\n",
      "    https://scikit-learn.org/stable/modules/preprocessing.html\n",
      "Please also refer to the documentation for alternative solver options:\n",
      "    https://scikit-learn.org/stable/modules/linear_model.html#logistic-regression\n",
      "  n_iter_i = _check_optimize_result(\n",
      "c:\\Users\\paulx\\anaconda3\\lib\\site-packages\\sklearn\\linear_model\\_logistic.py:460: ConvergenceWarning: lbfgs failed to converge (status=1):\n",
      "STOP: TOTAL NO. of ITERATIONS REACHED LIMIT.\n",
      "\n",
      "Increase the number of iterations (max_iter) or scale the data as shown in:\n",
      "    https://scikit-learn.org/stable/modules/preprocessing.html\n",
      "Please also refer to the documentation for alternative solver options:\n",
      "    https://scikit-learn.org/stable/modules/linear_model.html#logistic-regression\n",
      "  n_iter_i = _check_optimize_result(\n",
      "c:\\Users\\paulx\\anaconda3\\lib\\site-packages\\sklearn\\linear_model\\_sag.py:350: ConvergenceWarning: The max_iter was reached which means the coef_ did not converge\n",
      "  warnings.warn(\n",
      "c:\\Users\\paulx\\anaconda3\\lib\\site-packages\\sklearn\\linear_model\\_sag.py:350: ConvergenceWarning: The max_iter was reached which means the coef_ did not converge\n",
      "  warnings.warn(\n",
      "c:\\Users\\paulx\\anaconda3\\lib\\site-packages\\sklearn\\linear_model\\_sag.py:350: ConvergenceWarning: The max_iter was reached which means the coef_ did not converge\n",
      "  warnings.warn(\n",
      "c:\\Users\\paulx\\anaconda3\\lib\\site-packages\\sklearn\\linear_model\\_sag.py:350: ConvergenceWarning: The max_iter was reached which means the coef_ did not converge\n",
      "  warnings.warn(\n",
      "c:\\Users\\paulx\\anaconda3\\lib\\site-packages\\sklearn\\linear_model\\_sag.py:350: ConvergenceWarning: The max_iter was reached which means the coef_ did not converge\n",
      "  warnings.warn(\n",
      "c:\\Users\\paulx\\anaconda3\\lib\\site-packages\\sklearn\\linear_model\\_sag.py:350: ConvergenceWarning: The max_iter was reached which means the coef_ did not converge\n",
      "  warnings.warn(\n",
      "c:\\Users\\paulx\\anaconda3\\lib\\site-packages\\sklearn\\linear_model\\_sag.py:350: ConvergenceWarning: The max_iter was reached which means the coef_ did not converge\n",
      "  warnings.warn(\n"
     ]
    },
    {
     "data": {
      "text/html": [
       "<div>\n",
       "<style scoped>\n",
       "    .dataframe tbody tr th:only-of-type {\n",
       "        vertical-align: middle;\n",
       "    }\n",
       "\n",
       "    .dataframe tbody tr th {\n",
       "        vertical-align: top;\n",
       "    }\n",
       "\n",
       "    .dataframe thead th {\n",
       "        text-align: right;\n",
       "    }\n",
       "</style>\n",
       "<table border=\"1\" class=\"dataframe\">\n",
       "  <thead>\n",
       "    <tr style=\"text-align: right;\">\n",
       "      <th></th>\n",
       "      <th>model</th>\n",
       "      <th>best_score</th>\n",
       "      <th>best_params</th>\n",
       "    </tr>\n",
       "  </thead>\n",
       "  <tbody>\n",
       "    <tr>\n",
       "      <th>0</th>\n",
       "      <td>svm</td>\n",
       "      <td>0.99</td>\n",
       "      <td>{'kernel': 'rbf', 'gamma': 'scale', 'C': 5}</td>\n",
       "    </tr>\n",
       "    <tr>\n",
       "      <th>1</th>\n",
       "      <td>xgboost</td>\n",
       "      <td>0.99</td>\n",
       "      <td>{'n_estimators': 750, 'max_depth': 6, 'learnin...</td>\n",
       "    </tr>\n",
       "    <tr>\n",
       "      <th>2</th>\n",
       "      <td>nb</td>\n",
       "      <td>0.96</td>\n",
       "      <td>{'alpha': 1}</td>\n",
       "    </tr>\n",
       "    <tr>\n",
       "      <th>3</th>\n",
       "      <td>logistics regression</td>\n",
       "      <td>0.99</td>\n",
       "      <td>{'solver': 'sag', 'penalty': None}</td>\n",
       "    </tr>\n",
       "  </tbody>\n",
       "</table>\n",
       "</div>"
      ],
      "text/plain": [
       "                  model  best_score  \\\n",
       "0                   svm        0.99   \n",
       "1               xgboost        0.99   \n",
       "2                    nb        0.96   \n",
       "3  logistics regression        0.99   \n",
       "\n",
       "                                         best_params  \n",
       "0        {'kernel': 'rbf', 'gamma': 'scale', 'C': 5}  \n",
       "1  {'n_estimators': 750, 'max_depth': 6, 'learnin...  \n",
       "2                                       {'alpha': 1}  \n",
       "3                 {'solver': 'sag', 'penalty': None}  "
      ]
     },
     "execution_count": 73,
     "metadata": {},
     "output_type": "execute_result"
    }
   ],
   "source": [
    "scores = []\n",
    "\n",
    "for model_name, mp in model_params.items():\n",
    "    model =  RandomizedSearchCV(mp['model'], mp['params'], cv=3, n_iter=20)\n",
    "    model.fit(X_train_vector, y_train)\n",
    "    scores.append({\n",
    "        'model': model_name,\n",
    "        'best_score': round(model.best_score_,2),\n",
    "        'best_params': model.best_params_\n",
    "    })\n",
    "    \n",
    "pd.DataFrame(scores,columns=['model','best_score','best_params'])"
   ]
  },
  {
   "cell_type": "code",
   "execution_count": 106,
   "metadata": {},
   "outputs": [
    {
     "data": {
      "text/html": [
       "<style>#sk-container-id-5 {color: black;}#sk-container-id-5 pre{padding: 0;}#sk-container-id-5 div.sk-toggleable {background-color: white;}#sk-container-id-5 label.sk-toggleable__label {cursor: pointer;display: block;width: 100%;margin-bottom: 0;padding: 0.3em;box-sizing: border-box;text-align: center;}#sk-container-id-5 label.sk-toggleable__label-arrow:before {content: \"▸\";float: left;margin-right: 0.25em;color: #696969;}#sk-container-id-5 label.sk-toggleable__label-arrow:hover:before {color: black;}#sk-container-id-5 div.sk-estimator:hover label.sk-toggleable__label-arrow:before {color: black;}#sk-container-id-5 div.sk-toggleable__content {max-height: 0;max-width: 0;overflow: hidden;text-align: left;background-color: #f0f8ff;}#sk-container-id-5 div.sk-toggleable__content pre {margin: 0.2em;color: black;border-radius: 0.25em;background-color: #f0f8ff;}#sk-container-id-5 input.sk-toggleable__control:checked~div.sk-toggleable__content {max-height: 200px;max-width: 100%;overflow: auto;}#sk-container-id-5 input.sk-toggleable__control:checked~label.sk-toggleable__label-arrow:before {content: \"▾\";}#sk-container-id-5 div.sk-estimator input.sk-toggleable__control:checked~label.sk-toggleable__label {background-color: #d4ebff;}#sk-container-id-5 div.sk-label input.sk-toggleable__control:checked~label.sk-toggleable__label {background-color: #d4ebff;}#sk-container-id-5 input.sk-hidden--visually {border: 0;clip: rect(1px 1px 1px 1px);clip: rect(1px, 1px, 1px, 1px);height: 1px;margin: -1px;overflow: hidden;padding: 0;position: absolute;width: 1px;}#sk-container-id-5 div.sk-estimator {font-family: monospace;background-color: #f0f8ff;border: 1px dotted black;border-radius: 0.25em;box-sizing: border-box;margin-bottom: 0.5em;}#sk-container-id-5 div.sk-estimator:hover {background-color: #d4ebff;}#sk-container-id-5 div.sk-parallel-item::after {content: \"\";width: 100%;border-bottom: 1px solid gray;flex-grow: 1;}#sk-container-id-5 div.sk-label:hover label.sk-toggleable__label {background-color: #d4ebff;}#sk-container-id-5 div.sk-serial::before {content: \"\";position: absolute;border-left: 1px solid gray;box-sizing: border-box;top: 0;bottom: 0;left: 50%;z-index: 0;}#sk-container-id-5 div.sk-serial {display: flex;flex-direction: column;align-items: center;background-color: white;padding-right: 0.2em;padding-left: 0.2em;position: relative;}#sk-container-id-5 div.sk-item {position: relative;z-index: 1;}#sk-container-id-5 div.sk-parallel {display: flex;align-items: stretch;justify-content: center;background-color: white;position: relative;}#sk-container-id-5 div.sk-item::before, #sk-container-id-5 div.sk-parallel-item::before {content: \"\";position: absolute;border-left: 1px solid gray;box-sizing: border-box;top: 0;bottom: 0;left: 50%;z-index: -1;}#sk-container-id-5 div.sk-parallel-item {display: flex;flex-direction: column;z-index: 1;position: relative;background-color: white;}#sk-container-id-5 div.sk-parallel-item:first-child::after {align-self: flex-end;width: 50%;}#sk-container-id-5 div.sk-parallel-item:last-child::after {align-self: flex-start;width: 50%;}#sk-container-id-5 div.sk-parallel-item:only-child::after {width: 0;}#sk-container-id-5 div.sk-dashed-wrapped {border: 1px dashed gray;margin: 0 0.4em 0.5em 0.4em;box-sizing: border-box;padding-bottom: 0.4em;background-color: white;}#sk-container-id-5 div.sk-label label {font-family: monospace;font-weight: bold;display: inline-block;line-height: 1.2em;}#sk-container-id-5 div.sk-label-container {text-align: center;}#sk-container-id-5 div.sk-container {/* jupyter's `normalize.less` sets `[hidden] { display: none; }` but bootstrap.min.css set `[hidden] { display: none !important; }` so we also need the `!important` here to be able to override the default hidden behavior on the sphinx rendered scikit-learn.org. See: https://github.com/scikit-learn/scikit-learn/issues/21755 */display: inline-block !important;position: relative;}#sk-container-id-5 div.sk-text-repr-fallback {display: none;}</style><div id=\"sk-container-id-5\" class=\"sk-top-container\"><div class=\"sk-text-repr-fallback\"><pre>XGBClassifier(base_score=None, booster=None, callbacks=None,\n",
       "              colsample_bylevel=0.6, colsample_bynode=None,\n",
       "              colsample_bytree=0.8, early_stopping_rounds=None,\n",
       "              enable_categorical=False, eval_metric=None, feature_types=None,\n",
       "              gamma=None, gpu_id=None, grow_policy=None, importance_type=None,\n",
       "              interaction_constraints=None, learning_rate=0.1, max_bin=None,\n",
       "              max_cat_threshold=None, max_cat_to_onehot=None,\n",
       "              max_delta_step=None, max_depth=6, max_leaves=None,\n",
       "              min_child_weight=None, missing=nan, monotone_constraints=None,\n",
       "              n_estimators=750, n_jobs=None, num_parallel_tree=None,\n",
       "              objective=&#x27;multi:softprob&#x27;, predictor=None, ...)</pre><b>In a Jupyter environment, please rerun this cell to show the HTML representation or trust the notebook. <br />On GitHub, the HTML representation is unable to render, please try loading this page with nbviewer.org.</b></div><div class=\"sk-container\" hidden><div class=\"sk-item\"><div class=\"sk-estimator sk-toggleable\"><input class=\"sk-toggleable__control sk-hidden--visually\" id=\"sk-estimator-id-5\" type=\"checkbox\" checked><label for=\"sk-estimator-id-5\" class=\"sk-toggleable__label sk-toggleable__label-arrow\">XGBClassifier</label><div class=\"sk-toggleable__content\"><pre>XGBClassifier(base_score=None, booster=None, callbacks=None,\n",
       "              colsample_bylevel=0.6, colsample_bynode=None,\n",
       "              colsample_bytree=0.8, early_stopping_rounds=None,\n",
       "              enable_categorical=False, eval_metric=None, feature_types=None,\n",
       "              gamma=None, gpu_id=None, grow_policy=None, importance_type=None,\n",
       "              interaction_constraints=None, learning_rate=0.1, max_bin=None,\n",
       "              max_cat_threshold=None, max_cat_to_onehot=None,\n",
       "              max_delta_step=None, max_depth=6, max_leaves=None,\n",
       "              min_child_weight=None, missing=nan, monotone_constraints=None,\n",
       "              n_estimators=750, n_jobs=None, num_parallel_tree=None,\n",
       "              objective=&#x27;multi:softprob&#x27;, predictor=None, ...)</pre></div></div></div></div></div>"
      ],
      "text/plain": [
       "XGBClassifier(base_score=None, booster=None, callbacks=None,\n",
       "              colsample_bylevel=0.6, colsample_bynode=None,\n",
       "              colsample_bytree=0.8, early_stopping_rounds=None,\n",
       "              enable_categorical=False, eval_metric=None, feature_types=None,\n",
       "              gamma=None, gpu_id=None, grow_policy=None, importance_type=None,\n",
       "              interaction_constraints=None, learning_rate=0.1, max_bin=None,\n",
       "              max_cat_threshold=None, max_cat_to_onehot=None,\n",
       "              max_delta_step=None, max_depth=6, max_leaves=None,\n",
       "              min_child_weight=None, missing=nan, monotone_constraints=None,\n",
       "              n_estimators=750, n_jobs=None, num_parallel_tree=None,\n",
       "              objective='multi:softprob', predictor=None, ...)"
      ]
     },
     "execution_count": 106,
     "metadata": {},
     "output_type": "execute_result"
    }
   ],
   "source": [
    "xgb=XGBClassifier(n_estimators=750, max_depth=6, learning_rate=0.1,colsample_bylevel=0.6,colsample_bytree= 0.8)\n",
    "xgb.fit(X_train_vector, y_train)"
   ]
  },
  {
   "cell_type": "code",
   "execution_count": 75,
   "metadata": {},
   "outputs": [
    {
     "data": {
      "text/html": [
       "<style>#sk-container-id-2 {color: black;}#sk-container-id-2 pre{padding: 0;}#sk-container-id-2 div.sk-toggleable {background-color: white;}#sk-container-id-2 label.sk-toggleable__label {cursor: pointer;display: block;width: 100%;margin-bottom: 0;padding: 0.3em;box-sizing: border-box;text-align: center;}#sk-container-id-2 label.sk-toggleable__label-arrow:before {content: \"▸\";float: left;margin-right: 0.25em;color: #696969;}#sk-container-id-2 label.sk-toggleable__label-arrow:hover:before {color: black;}#sk-container-id-2 div.sk-estimator:hover label.sk-toggleable__label-arrow:before {color: black;}#sk-container-id-2 div.sk-toggleable__content {max-height: 0;max-width: 0;overflow: hidden;text-align: left;background-color: #f0f8ff;}#sk-container-id-2 div.sk-toggleable__content pre {margin: 0.2em;color: black;border-radius: 0.25em;background-color: #f0f8ff;}#sk-container-id-2 input.sk-toggleable__control:checked~div.sk-toggleable__content {max-height: 200px;max-width: 100%;overflow: auto;}#sk-container-id-2 input.sk-toggleable__control:checked~label.sk-toggleable__label-arrow:before {content: \"▾\";}#sk-container-id-2 div.sk-estimator input.sk-toggleable__control:checked~label.sk-toggleable__label {background-color: #d4ebff;}#sk-container-id-2 div.sk-label input.sk-toggleable__control:checked~label.sk-toggleable__label {background-color: #d4ebff;}#sk-container-id-2 input.sk-hidden--visually {border: 0;clip: rect(1px 1px 1px 1px);clip: rect(1px, 1px, 1px, 1px);height: 1px;margin: -1px;overflow: hidden;padding: 0;position: absolute;width: 1px;}#sk-container-id-2 div.sk-estimator {font-family: monospace;background-color: #f0f8ff;border: 1px dotted black;border-radius: 0.25em;box-sizing: border-box;margin-bottom: 0.5em;}#sk-container-id-2 div.sk-estimator:hover {background-color: #d4ebff;}#sk-container-id-2 div.sk-parallel-item::after {content: \"\";width: 100%;border-bottom: 1px solid gray;flex-grow: 1;}#sk-container-id-2 div.sk-label:hover label.sk-toggleable__label {background-color: #d4ebff;}#sk-container-id-2 div.sk-serial::before {content: \"\";position: absolute;border-left: 1px solid gray;box-sizing: border-box;top: 0;bottom: 0;left: 50%;z-index: 0;}#sk-container-id-2 div.sk-serial {display: flex;flex-direction: column;align-items: center;background-color: white;padding-right: 0.2em;padding-left: 0.2em;position: relative;}#sk-container-id-2 div.sk-item {position: relative;z-index: 1;}#sk-container-id-2 div.sk-parallel {display: flex;align-items: stretch;justify-content: center;background-color: white;position: relative;}#sk-container-id-2 div.sk-item::before, #sk-container-id-2 div.sk-parallel-item::before {content: \"\";position: absolute;border-left: 1px solid gray;box-sizing: border-box;top: 0;bottom: 0;left: 50%;z-index: -1;}#sk-container-id-2 div.sk-parallel-item {display: flex;flex-direction: column;z-index: 1;position: relative;background-color: white;}#sk-container-id-2 div.sk-parallel-item:first-child::after {align-self: flex-end;width: 50%;}#sk-container-id-2 div.sk-parallel-item:last-child::after {align-self: flex-start;width: 50%;}#sk-container-id-2 div.sk-parallel-item:only-child::after {width: 0;}#sk-container-id-2 div.sk-dashed-wrapped {border: 1px dashed gray;margin: 0 0.4em 0.5em 0.4em;box-sizing: border-box;padding-bottom: 0.4em;background-color: white;}#sk-container-id-2 div.sk-label label {font-family: monospace;font-weight: bold;display: inline-block;line-height: 1.2em;}#sk-container-id-2 div.sk-label-container {text-align: center;}#sk-container-id-2 div.sk-container {/* jupyter's `normalize.less` sets `[hidden] { display: none; }` but bootstrap.min.css set `[hidden] { display: none !important; }` so we also need the `!important` here to be able to override the default hidden behavior on the sphinx rendered scikit-learn.org. See: https://github.com/scikit-learn/scikit-learn/issues/21755 */display: inline-block !important;position: relative;}#sk-container-id-2 div.sk-text-repr-fallback {display: none;}</style><div id=\"sk-container-id-2\" class=\"sk-top-container\"><div class=\"sk-text-repr-fallback\"><pre>SVC(C=5, probability=True)</pre><b>In a Jupyter environment, please rerun this cell to show the HTML representation or trust the notebook. <br />On GitHub, the HTML representation is unable to render, please try loading this page with nbviewer.org.</b></div><div class=\"sk-container\" hidden><div class=\"sk-item\"><div class=\"sk-estimator sk-toggleable\"><input class=\"sk-toggleable__control sk-hidden--visually\" id=\"sk-estimator-id-2\" type=\"checkbox\" checked><label for=\"sk-estimator-id-2\" class=\"sk-toggleable__label sk-toggleable__label-arrow\">SVC</label><div class=\"sk-toggleable__content\"><pre>SVC(C=5, probability=True)</pre></div></div></div></div></div>"
      ],
      "text/plain": [
       "SVC(C=5, probability=True)"
      ]
     },
     "execution_count": 75,
     "metadata": {},
     "output_type": "execute_result"
    }
   ],
   "source": [
    "svm=SVC(kernel='rbf',gamma='scale',C=5,probability=True)\n",
    "svm.fit(X_train_vector, y_train)"
   ]
  },
  {
   "cell_type": "code",
   "execution_count": 102,
   "metadata": {},
   "outputs": [
    {
     "name": "stderr",
     "output_type": "stream",
     "text": [
      "c:\\Users\\paulx\\anaconda3\\lib\\site-packages\\sklearn\\linear_model\\_sag.py:350: ConvergenceWarning: The max_iter was reached which means the coef_ did not converge\n",
      "  warnings.warn(\n"
     ]
    },
    {
     "data": {
      "text/html": [
       "<style>#sk-container-id-4 {color: black;}#sk-container-id-4 pre{padding: 0;}#sk-container-id-4 div.sk-toggleable {background-color: white;}#sk-container-id-4 label.sk-toggleable__label {cursor: pointer;display: block;width: 100%;margin-bottom: 0;padding: 0.3em;box-sizing: border-box;text-align: center;}#sk-container-id-4 label.sk-toggleable__label-arrow:before {content: \"▸\";float: left;margin-right: 0.25em;color: #696969;}#sk-container-id-4 label.sk-toggleable__label-arrow:hover:before {color: black;}#sk-container-id-4 div.sk-estimator:hover label.sk-toggleable__label-arrow:before {color: black;}#sk-container-id-4 div.sk-toggleable__content {max-height: 0;max-width: 0;overflow: hidden;text-align: left;background-color: #f0f8ff;}#sk-container-id-4 div.sk-toggleable__content pre {margin: 0.2em;color: black;border-radius: 0.25em;background-color: #f0f8ff;}#sk-container-id-4 input.sk-toggleable__control:checked~div.sk-toggleable__content {max-height: 200px;max-width: 100%;overflow: auto;}#sk-container-id-4 input.sk-toggleable__control:checked~label.sk-toggleable__label-arrow:before {content: \"▾\";}#sk-container-id-4 div.sk-estimator input.sk-toggleable__control:checked~label.sk-toggleable__label {background-color: #d4ebff;}#sk-container-id-4 div.sk-label input.sk-toggleable__control:checked~label.sk-toggleable__label {background-color: #d4ebff;}#sk-container-id-4 input.sk-hidden--visually {border: 0;clip: rect(1px 1px 1px 1px);clip: rect(1px, 1px, 1px, 1px);height: 1px;margin: -1px;overflow: hidden;padding: 0;position: absolute;width: 1px;}#sk-container-id-4 div.sk-estimator {font-family: monospace;background-color: #f0f8ff;border: 1px dotted black;border-radius: 0.25em;box-sizing: border-box;margin-bottom: 0.5em;}#sk-container-id-4 div.sk-estimator:hover {background-color: #d4ebff;}#sk-container-id-4 div.sk-parallel-item::after {content: \"\";width: 100%;border-bottom: 1px solid gray;flex-grow: 1;}#sk-container-id-4 div.sk-label:hover label.sk-toggleable__label {background-color: #d4ebff;}#sk-container-id-4 div.sk-serial::before {content: \"\";position: absolute;border-left: 1px solid gray;box-sizing: border-box;top: 0;bottom: 0;left: 50%;z-index: 0;}#sk-container-id-4 div.sk-serial {display: flex;flex-direction: column;align-items: center;background-color: white;padding-right: 0.2em;padding-left: 0.2em;position: relative;}#sk-container-id-4 div.sk-item {position: relative;z-index: 1;}#sk-container-id-4 div.sk-parallel {display: flex;align-items: stretch;justify-content: center;background-color: white;position: relative;}#sk-container-id-4 div.sk-item::before, #sk-container-id-4 div.sk-parallel-item::before {content: \"\";position: absolute;border-left: 1px solid gray;box-sizing: border-box;top: 0;bottom: 0;left: 50%;z-index: -1;}#sk-container-id-4 div.sk-parallel-item {display: flex;flex-direction: column;z-index: 1;position: relative;background-color: white;}#sk-container-id-4 div.sk-parallel-item:first-child::after {align-self: flex-end;width: 50%;}#sk-container-id-4 div.sk-parallel-item:last-child::after {align-self: flex-start;width: 50%;}#sk-container-id-4 div.sk-parallel-item:only-child::after {width: 0;}#sk-container-id-4 div.sk-dashed-wrapped {border: 1px dashed gray;margin: 0 0.4em 0.5em 0.4em;box-sizing: border-box;padding-bottom: 0.4em;background-color: white;}#sk-container-id-4 div.sk-label label {font-family: monospace;font-weight: bold;display: inline-block;line-height: 1.2em;}#sk-container-id-4 div.sk-label-container {text-align: center;}#sk-container-id-4 div.sk-container {/* jupyter's `normalize.less` sets `[hidden] { display: none; }` but bootstrap.min.css set `[hidden] { display: none !important; }` so we also need the `!important` here to be able to override the default hidden behavior on the sphinx rendered scikit-learn.org. See: https://github.com/scikit-learn/scikit-learn/issues/21755 */display: inline-block !important;position: relative;}#sk-container-id-4 div.sk-text-repr-fallback {display: none;}</style><div id=\"sk-container-id-4\" class=\"sk-top-container\"><div class=\"sk-text-repr-fallback\"><pre>LogisticRegression(penalty=None, solver=&#x27;sag&#x27;)</pre><b>In a Jupyter environment, please rerun this cell to show the HTML representation or trust the notebook. <br />On GitHub, the HTML representation is unable to render, please try loading this page with nbviewer.org.</b></div><div class=\"sk-container\" hidden><div class=\"sk-item\"><div class=\"sk-estimator sk-toggleable\"><input class=\"sk-toggleable__control sk-hidden--visually\" id=\"sk-estimator-id-4\" type=\"checkbox\" checked><label for=\"sk-estimator-id-4\" class=\"sk-toggleable__label sk-toggleable__label-arrow\">LogisticRegression</label><div class=\"sk-toggleable__content\"><pre>LogisticRegression(penalty=None, solver=&#x27;sag&#x27;)</pre></div></div></div></div></div>"
      ],
      "text/plain": [
       "LogisticRegression(penalty=None, solver='sag')"
      ]
     },
     "execution_count": 102,
     "metadata": {},
     "output_type": "execute_result"
    }
   ],
   "source": [
    "lr=LogisticRegression(solver='sag',penalty=None)\n",
    "lr.fit(X_train_vector, y_train)"
   ]
  },
  {
   "cell_type": "code",
   "execution_count": 107,
   "metadata": {},
   "outputs": [
    {
     "name": "stdout",
     "output_type": "stream",
     "text": [
      "SVM: 0.990959239963224\n",
      "XGBoost: 0.9904995403003372\n",
      "Logistics Regression: 0.9918786392889979\n"
     ]
    }
   ],
   "source": [
    "## SVM and XGboost similar performance, compare on test set\n",
    "print('SVM:',svm.score(X_test_vector,y_test))\n",
    "print('XGBoost:',xgb.score(X_test_vector,y_test))\n",
    "print('Logistics Regression:',lr.score(X_test_vector,y_test))"
   ]
  },
  {
   "cell_type": "code",
   "execution_count": 78,
   "metadata": {},
   "outputs": [
    {
     "name": "stdout",
     "output_type": "stream",
     "text": [
      "SVM: \n",
      "                     precision    recall  f1-score   support\n",
      "\n",
      "         Delivered       0.99      1.00      1.00       933\n",
      "         InTransit       0.99      1.00      1.00       932\n",
      "AvailableForPickup       0.99      0.98      0.99       933\n",
      "         Exception       0.99      0.99      0.99       932\n",
      "       AttemptFail       0.98      0.97      0.98       932\n",
      "      InfoReceived       0.99      0.99      0.99       932\n",
      "    OutForDelivery       0.99      1.00      1.00       932\n",
      "\n",
      "          accuracy                           0.99      6526\n",
      "         macro avg       0.99      0.99      0.99      6526\n",
      "      weighted avg       0.99      0.99      0.99      6526\n",
      "\n"
     ]
    }
   ],
   "source": [
    "## further comparison\n",
    "from sklearn.metrics import classification_report\n",
    "\n",
    "print('SVM: \\n', classification_report(y_test,svm.predict(X_test_vector),target_names=code_map.values()))"
   ]
  },
  {
   "cell_type": "code",
   "execution_count": 108,
   "metadata": {},
   "outputs": [
    {
     "name": "stdout",
     "output_type": "stream",
     "text": [
      "XGBoost: \n",
      "                     precision    recall  f1-score   support\n",
      "\n",
      "         Delivered       0.99      0.99      0.99       933\n",
      "         InTransit       0.99      1.00      1.00       932\n",
      "AvailableForPickup       0.99      0.99      0.99       933\n",
      "         Exception       0.98      0.99      0.99       932\n",
      "       AttemptFail       0.98      0.97      0.97       932\n",
      "      InfoReceived       0.99      0.99      0.99       932\n",
      "    OutForDelivery       0.99      1.00      1.00       932\n",
      "\n",
      "          accuracy                           0.99      6526\n",
      "         macro avg       0.99      0.99      0.99      6526\n",
      "      weighted avg       0.99      0.99      0.99      6526\n",
      "\n"
     ]
    }
   ],
   "source": [
    "print('XGBoost: \\n', classification_report(y_test,xgb.predict(X_test_vector),target_names=code_map.values()))"
   ]
  },
  {
   "cell_type": "code",
   "execution_count": 104,
   "metadata": {},
   "outputs": [
    {
     "name": "stdout",
     "output_type": "stream",
     "text": [
      "Logistics Regression: \n",
      "                     precision    recall  f1-score   support\n",
      "\n",
      "         Delivered       0.99      1.00      1.00       933\n",
      "         InTransit       0.99      1.00      1.00       932\n",
      "AvailableForPickup       0.99      0.99      0.99       933\n",
      "         Exception       1.00      0.99      0.99       932\n",
      "       AttemptFail       0.98      0.97      0.98       932\n",
      "      InfoReceived       0.99      0.99      0.99       932\n",
      "    OutForDelivery       0.99      1.00      1.00       932\n",
      "\n",
      "          accuracy                           0.99      6526\n",
      "         macro avg       0.99      0.99      0.99      6526\n",
      "      weighted avg       0.99      0.99      0.99      6526\n",
      "\n"
     ]
    }
   ],
   "source": [
    "print('Logistics Regression: \\n', classification_report(y_test,lr.predict(X_test_vector),target_names=code_map.values()))"
   ]
  },
  {
   "cell_type": "code",
   "execution_count": 81,
   "metadata": {},
   "outputs": [],
   "source": [
    "# ## Three algorithm all work well, let's ensemble them\n",
    "# from sklearn.ensemble import VotingClassifier\n",
    "# classifiers=[('SVM',svm),\n",
    "#              ('XGBoost',xgb),\n",
    "#             ('Logistics Regression',lr)]\n",
    "# clf=VotingClassifier(estimators=classifiers,voting='soft')\n",
    "# clf.fit(X_train_vector,y_train)\n",
    "# clf.score(X_test_vector,y_test)"
   ]
  },
  {
   "cell_type": "code",
   "execution_count": 82,
   "metadata": {},
   "outputs": [],
   "source": [
    "# print(classification_report(y_test,clf.predict(X_test_vector),target_names=code_map.values()))"
   ]
  },
  {
   "cell_type": "markdown",
   "metadata": {},
   "source": [
    "## Model Evaluation"
   ]
  },
  {
   "cell_type": "code",
   "execution_count": 83,
   "metadata": {},
   "outputs": [],
   "source": [
    "from sklearn.metrics import confusion_matrix, ConfusionMatrixDisplay, classification_report"
   ]
  },
  {
   "cell_type": "code",
   "execution_count": 122,
   "metadata": {},
   "outputs": [
    {
     "data": {
      "image/png": "[encoded data removed]",
      "text/plain": [
       "<Figure size 432x288 with 2 Axes>"
      ]
     },
     "metadata": {
      "needs_background": "light"
     },
     "output_type": "display_data"
    }
   ],
   "source": [
    "cm2=confusion_matrix(y_train,svm.predict(X_train_vector),labels=np.arange(0,7))\n",
    "disp_train = ConfusionMatrixDisplay(confusion_matrix=cm2,display_labels=code_map.values())\n",
    "disp_train.plot()\n",
    "plt.xticks(rotation=90)\n",
    "plt.show()"
   ]
  },
  {
   "cell_type": "code",
   "execution_count": 123,
   "metadata": {},
   "outputs": [
    {
     "data": {
      "image/png": "[encoded data removed]",
      "text/plain": [
       "<Figure size 432x288 with 2 Axes>"
      ]
     },
     "metadata": {
      "needs_background": "light"
     },
     "output_type": "display_data"
    }
   ],
   "source": [
    "cm1=confusion_matrix(y_test,svm.predict(X_test_vector),labels=np.arange(0,7))\n",
    "disp_test = ConfusionMatrixDisplay(confusion_matrix=cm1,display_labels=code_map.values())\n",
    "disp_test.plot()\n",
    "plt.xticks(rotation=90)\n",
    "plt.show()"
   ]
  },
  {
   "cell_type": "code",
   "execution_count": 124,
   "metadata": {},
   "outputs": [
    {
     "name": "stdout",
     "output_type": "stream",
     "text": [
      "59\n"
     ]
    },
    {
     "data": {
      "text/html": [
       "<div>\n",
       "<style scoped>\n",
       "    .dataframe tbody tr th:only-of-type {\n",
       "        vertical-align: middle;\n",
       "    }\n",
       "\n",
       "    .dataframe tbody tr th {\n",
       "        vertical-align: top;\n",
       "    }\n",
       "\n",
       "    .dataframe thead th {\n",
       "        text-align: right;\n",
       "    }\n",
       "</style>\n",
       "<table border=\"1\" class=\"dataframe\">\n",
       "  <thead>\n",
       "    <tr style=\"text-align: right;\">\n",
       "      <th></th>\n",
       "      <th>0</th>\n",
       "      <th>0</th>\n",
       "      <th>0</th>\n",
       "      <th>true label</th>\n",
       "      <th>predict label</th>\n",
       "    </tr>\n",
       "  </thead>\n",
       "  <tbody>\n",
       "    <tr>\n",
       "      <th>127</th>\n",
       "      <td>Doręczono</td>\n",
       "      <td>2</td>\n",
       "      <td>4</td>\n",
       "      <td>Delivered</td>\n",
       "      <td>InTransit</td>\n",
       "    </tr>\n",
       "    <tr>\n",
       "      <th>145</th>\n",
       "      <td>On delivery</td>\n",
       "      <td>4</td>\n",
       "      <td>6</td>\n",
       "      <td>InTransit</td>\n",
       "      <td>OutForDelivery</td>\n",
       "    </tr>\n",
       "    <tr>\n",
       "      <th>191</th>\n",
       "      <td>Sendingen er utlevert.</td>\n",
       "      <td>2</td>\n",
       "      <td>4</td>\n",
       "      <td>Delivered</td>\n",
       "      <td>InTransit</td>\n",
       "    </tr>\n",
       "    <tr>\n",
       "      <th>245</th>\n",
       "      <td>We couldn't deliver your item as there was a p...</td>\n",
       "      <td>4</td>\n",
       "      <td>3</td>\n",
       "      <td>InTransit</td>\n",
       "      <td>Exception</td>\n",
       "    </tr>\n",
       "    <tr>\n",
       "      <th>320</th>\n",
       "      <td>Clearance processing complete at  ONTARIO SERV...</td>\n",
       "      <td>4</td>\n",
       "      <td>5</td>\n",
       "      <td>InTransit</td>\n",
       "      <td>InfoReceived</td>\n",
       "    </tr>\n",
       "    <tr>\n",
       "      <th>375</th>\n",
       "      <td>Acceptance by the Post Services</td>\n",
       "      <td>4</td>\n",
       "      <td>5</td>\n",
       "      <td>InTransit</td>\n",
       "      <td>InfoReceived</td>\n",
       "    </tr>\n",
       "    <tr>\n",
       "      <th>444</th>\n",
       "      <td>Proof of Delivery</td>\n",
       "      <td>2</td>\n",
       "      <td>6</td>\n",
       "      <td>Delivered</td>\n",
       "      <td>OutForDelivery</td>\n",
       "    </tr>\n",
       "    <tr>\n",
       "      <th>497</th>\n",
       "      <td>MOVED</td>\n",
       "      <td>3</td>\n",
       "      <td>4</td>\n",
       "      <td>Exception</td>\n",
       "      <td>InTransit</td>\n",
       "    </tr>\n",
       "    <tr>\n",
       "      <th>570</th>\n",
       "      <td>Item delivered to the Addressee at the post of...</td>\n",
       "      <td>2</td>\n",
       "      <td>1</td>\n",
       "      <td>Delivered</td>\n",
       "      <td>AvailableForPickup</td>\n",
       "    </tr>\n",
       "    <tr>\n",
       "      <th>636</th>\n",
       "      <td>Item Despatched to Berwick Upon Tweed DO</td>\n",
       "      <td>4</td>\n",
       "      <td>5</td>\n",
       "      <td>InTransit</td>\n",
       "      <td>InfoReceived</td>\n",
       "    </tr>\n",
       "    <tr>\n",
       "      <th>1099</th>\n",
       "      <td>Item delivered to the Addressee at the post of...</td>\n",
       "      <td>2</td>\n",
       "      <td>1</td>\n",
       "      <td>Delivered</td>\n",
       "      <td>AvailableForPickup</td>\n",
       "    </tr>\n",
       "    <tr>\n",
       "      <th>1139</th>\n",
       "      <td>Envio pendiente de recogida por el destinatari...</td>\n",
       "      <td>4</td>\n",
       "      <td>1</td>\n",
       "      <td>InTransit</td>\n",
       "      <td>AvailableForPickup</td>\n",
       "    </tr>\n",
       "    <tr>\n",
       "      <th>1161</th>\n",
       "      <td>Votre envoi a été remis en lot au destinataire...</td>\n",
       "      <td>4</td>\n",
       "      <td>2</td>\n",
       "      <td>InTransit</td>\n",
       "      <td>Delivered</td>\n",
       "    </tr>\n",
       "    <tr>\n",
       "      <th>1401</th>\n",
       "      <td>Zip code correction, C.P. Correct is: (22127)</td>\n",
       "      <td>4</td>\n",
       "      <td>0</td>\n",
       "      <td>InTransit</td>\n",
       "      <td>AttemptFail</td>\n",
       "    </tr>\n",
       "    <tr>\n",
       "      <th>1664</th>\n",
       "      <td>Cannot be delivered</td>\n",
       "      <td>3</td>\n",
       "      <td>0</td>\n",
       "      <td>Exception</td>\n",
       "      <td>AttemptFail</td>\n",
       "    </tr>\n",
       "    <tr>\n",
       "      <th>1705</th>\n",
       "      <td>Item being held - sender notified</td>\n",
       "      <td>4</td>\n",
       "      <td>3</td>\n",
       "      <td>InTransit</td>\n",
       "      <td>Exception</td>\n",
       "    </tr>\n",
       "    <tr>\n",
       "      <th>1823</th>\n",
       "      <td>MOVED</td>\n",
       "      <td>3</td>\n",
       "      <td>4</td>\n",
       "      <td>Exception</td>\n",
       "      <td>InTransit</td>\n",
       "    </tr>\n",
       "    <tr>\n",
       "      <th>1900</th>\n",
       "      <td>Delivery Complete</td>\n",
       "      <td>2</td>\n",
       "      <td>6</td>\n",
       "      <td>Delivered</td>\n",
       "      <td>OutForDelivery</td>\n",
       "    </tr>\n",
       "    <tr>\n",
       "      <th>2221</th>\n",
       "      <td>Arrived at DHL Sort Facility VENICE - ITALY</td>\n",
       "      <td>5</td>\n",
       "      <td>4</td>\n",
       "      <td>InfoReceived</td>\n",
       "      <td>InTransit</td>\n",
       "    </tr>\n",
       "    <tr>\n",
       "      <th>2299</th>\n",
       "      <td>Kunne ikke finne avtalt leveringssted eller de...</td>\n",
       "      <td>4</td>\n",
       "      <td>6</td>\n",
       "      <td>InTransit</td>\n",
       "      <td>OutForDelivery</td>\n",
       "    </tr>\n",
       "    <tr>\n",
       "      <th>2388</th>\n",
       "      <td>Arrived at Sort Facility  NEW BRUNSWICK &amp; PEI ...</td>\n",
       "      <td>4</td>\n",
       "      <td>5</td>\n",
       "      <td>InTransit</td>\n",
       "      <td>InfoReceived</td>\n",
       "    </tr>\n",
       "    <tr>\n",
       "      <th>2404</th>\n",
       "      <td>MOVED</td>\n",
       "      <td>3</td>\n",
       "      <td>4</td>\n",
       "      <td>Exception</td>\n",
       "      <td>InTransit</td>\n",
       "    </tr>\n",
       "    <tr>\n",
       "      <th>2463</th>\n",
       "      <td>On delivery from the courier</td>\n",
       "      <td>4</td>\n",
       "      <td>6</td>\n",
       "      <td>InTransit</td>\n",
       "      <td>OutForDelivery</td>\n",
       "    </tr>\n",
       "    <tr>\n",
       "      <th>2549</th>\n",
       "      <td>MOVED</td>\n",
       "      <td>3</td>\n",
       "      <td>4</td>\n",
       "      <td>Exception</td>\n",
       "      <td>InTransit</td>\n",
       "    </tr>\n",
       "    <tr>\n",
       "      <th>2594</th>\n",
       "      <td>Arrived at DHL Sort Facility VENICE - ITALY</td>\n",
       "      <td>5</td>\n",
       "      <td>4</td>\n",
       "      <td>InfoReceived</td>\n",
       "      <td>InTransit</td>\n",
       "    </tr>\n",
       "    <tr>\n",
       "      <th>2667</th>\n",
       "      <td>Arrived at DHL Sort Facility VENICE - ITALY</td>\n",
       "      <td>5</td>\n",
       "      <td>4</td>\n",
       "      <td>InfoReceived</td>\n",
       "      <td>InTransit</td>\n",
       "    </tr>\n",
       "    <tr>\n",
       "      <th>2770</th>\n",
       "      <td>Delivered to UPS Access Point™</td>\n",
       "      <td>1</td>\n",
       "      <td>2</td>\n",
       "      <td>AvailableForPickup</td>\n",
       "      <td>Delivered</td>\n",
       "    </tr>\n",
       "    <tr>\n",
       "      <th>2838</th>\n",
       "      <td>Record recipient information</td>\n",
       "      <td>4</td>\n",
       "      <td>3</td>\n",
       "      <td>InTransit</td>\n",
       "      <td>Exception</td>\n",
       "    </tr>\n",
       "    <tr>\n",
       "      <th>2913</th>\n",
       "      <td>Votre envoi a été remis en lot au destinataire...</td>\n",
       "      <td>4</td>\n",
       "      <td>2</td>\n",
       "      <td>InTransit</td>\n",
       "      <td>Delivered</td>\n",
       "    </tr>\n",
       "    <tr>\n",
       "      <th>2977</th>\n",
       "      <td>Delivery Completed - OK</td>\n",
       "      <td>2</td>\n",
       "      <td>6</td>\n",
       "      <td>Delivered</td>\n",
       "      <td>OutForDelivery</td>\n",
       "    </tr>\n",
       "    <tr>\n",
       "      <th>3092</th>\n",
       "      <td>Zip code correction, C.P. correct is: (82800)</td>\n",
       "      <td>4</td>\n",
       "      <td>0</td>\n",
       "      <td>InTransit</td>\n",
       "      <td>AttemptFail</td>\n",
       "    </tr>\n",
       "    <tr>\n",
       "      <th>3139</th>\n",
       "      <td>Arrived at DHL Sort Facility VENICE - ITALY</td>\n",
       "      <td>5</td>\n",
       "      <td>4</td>\n",
       "      <td>InfoReceived</td>\n",
       "      <td>InTransit</td>\n",
       "    </tr>\n",
       "    <tr>\n",
       "      <th>3199</th>\n",
       "      <td>Arrived at DHL Delivery Facility  NARITA - JAPAN</td>\n",
       "      <td>4</td>\n",
       "      <td>5</td>\n",
       "      <td>InTransit</td>\n",
       "      <td>InfoReceived</td>\n",
       "    </tr>\n",
       "    <tr>\n",
       "      <th>3219</th>\n",
       "      <td>Votre envoi est réexpédié à la demande du dest...</td>\n",
       "      <td>4</td>\n",
       "      <td>3</td>\n",
       "      <td>InTransit</td>\n",
       "      <td>Exception</td>\n",
       "    </tr>\n",
       "    <tr>\n",
       "      <th>3261</th>\n",
       "      <td>Item delivered to the Addressee at the post of...</td>\n",
       "      <td>2</td>\n",
       "      <td>1</td>\n",
       "      <td>Delivered</td>\n",
       "      <td>AvailableForPickup</td>\n",
       "    </tr>\n",
       "    <tr>\n",
       "      <th>3348</th>\n",
       "      <td>Delivery to consignee</td>\n",
       "      <td>2</td>\n",
       "      <td>6</td>\n",
       "      <td>Delivered</td>\n",
       "      <td>OutForDelivery</td>\n",
       "    </tr>\n",
       "    <tr>\n",
       "      <th>3522</th>\n",
       "      <td>Cannot be delivered</td>\n",
       "      <td>3</td>\n",
       "      <td>0</td>\n",
       "      <td>Exception</td>\n",
       "      <td>AttemptFail</td>\n",
       "    </tr>\n",
       "    <tr>\n",
       "      <th>3611</th>\n",
       "      <td>Item accepted for delivery</td>\n",
       "      <td>2</td>\n",
       "      <td>4</td>\n",
       "      <td>Delivered</td>\n",
       "      <td>InTransit</td>\n",
       "    </tr>\n",
       "    <tr>\n",
       "      <th>3750</th>\n",
       "      <td>Arrived at DHL Sort Facility VENICE - ITALY</td>\n",
       "      <td>5</td>\n",
       "      <td>4</td>\n",
       "      <td>InfoReceived</td>\n",
       "      <td>InTransit</td>\n",
       "    </tr>\n",
       "    <tr>\n",
       "      <th>3791</th>\n",
       "      <td>IN_TRANSIT_WITHIN_DESTINATION_COUNTRY - The pa...</td>\n",
       "      <td>4</td>\n",
       "      <td>3</td>\n",
       "      <td>InTransit</td>\n",
       "      <td>Exception</td>\n",
       "    </tr>\n",
       "    <tr>\n",
       "      <th>3855</th>\n",
       "      <td>MOVED</td>\n",
       "      <td>3</td>\n",
       "      <td>4</td>\n",
       "      <td>Exception</td>\n",
       "      <td>InTransit</td>\n",
       "    </tr>\n",
       "    <tr>\n",
       "      <th>3876</th>\n",
       "      <td>Delivered to UPS Access Point™</td>\n",
       "      <td>1</td>\n",
       "      <td>2</td>\n",
       "      <td>AvailableForPickup</td>\n",
       "      <td>Delivered</td>\n",
       "    </tr>\n",
       "    <tr>\n",
       "      <th>4079</th>\n",
       "      <td>EN ROUTE TO DELIVERY LOCATION</td>\n",
       "      <td>4</td>\n",
       "      <td>3</td>\n",
       "      <td>InTransit</td>\n",
       "      <td>Exception</td>\n",
       "    </tr>\n",
       "    <tr>\n",
       "      <th>4097</th>\n",
       "      <td>Votre courrier a été distribué à l'adresse (au...</td>\n",
       "      <td>2</td>\n",
       "      <td>4</td>\n",
       "      <td>Delivered</td>\n",
       "      <td>InTransit</td>\n",
       "    </tr>\n",
       "    <tr>\n",
       "      <th>4205</th>\n",
       "      <td>Picked up/Collected</td>\n",
       "      <td>2</td>\n",
       "      <td>4</td>\n",
       "      <td>Delivered</td>\n",
       "      <td>InTransit</td>\n",
       "    </tr>\n",
       "    <tr>\n",
       "      <th>4302</th>\n",
       "      <td>Arrived at DHL Delivery Facility  BRUNEI - BRUNEI</td>\n",
       "      <td>4</td>\n",
       "      <td>5</td>\n",
       "      <td>InTransit</td>\n",
       "      <td>InfoReceived</td>\n",
       "    </tr>\n",
       "    <tr>\n",
       "      <th>4339</th>\n",
       "      <td>Arrived at DHL Sort Facility VENICE - ITALY</td>\n",
       "      <td>5</td>\n",
       "      <td>4</td>\n",
       "      <td>InfoReceived</td>\n",
       "      <td>InTransit</td>\n",
       "    </tr>\n",
       "    <tr>\n",
       "      <th>4459</th>\n",
       "      <td>Item is on its way to a box lobby or other col...</td>\n",
       "      <td>4</td>\n",
       "      <td>1</td>\n",
       "      <td>InTransit</td>\n",
       "      <td>AvailableForPickup</td>\n",
       "    </tr>\n",
       "    <tr>\n",
       "      <th>4505</th>\n",
       "      <td>Отправлен в город получателя</td>\n",
       "      <td>4</td>\n",
       "      <td>3</td>\n",
       "      <td>InTransit</td>\n",
       "      <td>Exception</td>\n",
       "    </tr>\n",
       "    <tr>\n",
       "      <th>4585</th>\n",
       "      <td>Votre colis vous attend dans votre point de re...</td>\n",
       "      <td>4</td>\n",
       "      <td>3</td>\n",
       "      <td>InTransit</td>\n",
       "      <td>Exception</td>\n",
       "    </tr>\n",
       "    <tr>\n",
       "      <th>4802</th>\n",
       "      <td>Arrived at DHL Delivery Facility  NICE - FRANCE</td>\n",
       "      <td>4</td>\n",
       "      <td>5</td>\n",
       "      <td>InTransit</td>\n",
       "      <td>InfoReceived</td>\n",
       "    </tr>\n",
       "    <tr>\n",
       "      <th>4956</th>\n",
       "      <td>Delivered to UPS Access Point™</td>\n",
       "      <td>1</td>\n",
       "      <td>2</td>\n",
       "      <td>AvailableForPickup</td>\n",
       "      <td>Delivered</td>\n",
       "    </tr>\n",
       "    <tr>\n",
       "      <th>5434</th>\n",
       "      <td>We could not deliver your item as the business...</td>\n",
       "      <td>4</td>\n",
       "      <td>0</td>\n",
       "      <td>InTransit</td>\n",
       "      <td>AttemptFail</td>\n",
       "    </tr>\n",
       "    <tr>\n",
       "      <th>5597</th>\n",
       "      <td>Arrived at DHL Sort Facility VENICE - ITALY</td>\n",
       "      <td>5</td>\n",
       "      <td>4</td>\n",
       "      <td>InfoReceived</td>\n",
       "      <td>InTransit</td>\n",
       "    </tr>\n",
       "    <tr>\n",
       "      <th>5754</th>\n",
       "      <td>FINAL DELIVERY</td>\n",
       "      <td>2</td>\n",
       "      <td>0</td>\n",
       "      <td>Delivered</td>\n",
       "      <td>AttemptFail</td>\n",
       "    </tr>\n",
       "    <tr>\n",
       "      <th>6028</th>\n",
       "      <td>Sendingen er utlevert.</td>\n",
       "      <td>2</td>\n",
       "      <td>4</td>\n",
       "      <td>Delivered</td>\n",
       "      <td>InTransit</td>\n",
       "    </tr>\n",
       "    <tr>\n",
       "      <th>6176</th>\n",
       "      <td>Envío en espera de próximo intento de entrega</td>\n",
       "      <td>4</td>\n",
       "      <td>0</td>\n",
       "      <td>InTransit</td>\n",
       "      <td>AttemptFail</td>\n",
       "    </tr>\n",
       "    <tr>\n",
       "      <th>6274</th>\n",
       "      <td>Branch Outbound in Delivery Branch</td>\n",
       "      <td>4</td>\n",
       "      <td>6</td>\n",
       "      <td>InTransit</td>\n",
       "      <td>OutForDelivery</td>\n",
       "    </tr>\n",
       "    <tr>\n",
       "      <th>6376</th>\n",
       "      <td>Arrived at DHL Sort Facility VENICE - ITALY</td>\n",
       "      <td>5</td>\n",
       "      <td>4</td>\n",
       "      <td>InfoReceived</td>\n",
       "      <td>InTransit</td>\n",
       "    </tr>\n",
       "  </tbody>\n",
       "</table>\n",
       "</div>"
      ],
      "text/plain": [
       "                                                      0  0  0  \\\n",
       "127                                           Doręczono  2  4   \n",
       "145                                         On delivery  4  6   \n",
       "191                              Sendingen er utlevert.  2  4   \n",
       "245   We couldn't deliver your item as there was a p...  4  3   \n",
       "320   Clearance processing complete at  ONTARIO SERV...  4  5   \n",
       "375                     Acceptance by the Post Services  4  5   \n",
       "444                                   Proof of Delivery  2  6   \n",
       "497                                               MOVED  3  4   \n",
       "570   Item delivered to the Addressee at the post of...  2  1   \n",
       "636            Item Despatched to Berwick Upon Tweed DO  4  5   \n",
       "1099  Item delivered to the Addressee at the post of...  2  1   \n",
       "1139  Envio pendiente de recogida por el destinatari...  4  1   \n",
       "1161  Votre envoi a été remis en lot au destinataire...  4  2   \n",
       "1401      Zip code correction, C.P. Correct is: (22127)  4  0   \n",
       "1664                                Cannot be delivered  3  0   \n",
       "1705                  Item being held - sender notified  4  3   \n",
       "1823                                              MOVED  3  4   \n",
       "1900                                  Delivery Complete  2  6   \n",
       "2221        Arrived at DHL Sort Facility VENICE - ITALY  5  4   \n",
       "2299  Kunne ikke finne avtalt leveringssted eller de...  4  6   \n",
       "2388  Arrived at Sort Facility  NEW BRUNSWICK & PEI ...  4  5   \n",
       "2404                                              MOVED  3  4   \n",
       "2463                       On delivery from the courier  4  6   \n",
       "2549                                              MOVED  3  4   \n",
       "2594        Arrived at DHL Sort Facility VENICE - ITALY  5  4   \n",
       "2667        Arrived at DHL Sort Facility VENICE - ITALY  5  4   \n",
       "2770                     Delivered to UPS Access Point™  1  2   \n",
       "2838                       Record recipient information  4  3   \n",
       "2913  Votre envoi a été remis en lot au destinataire...  4  2   \n",
       "2977                            Delivery Completed - OK  2  6   \n",
       "3092      Zip code correction, C.P. correct is: (82800)  4  0   \n",
       "3139        Arrived at DHL Sort Facility VENICE - ITALY  5  4   \n",
       "3199   Arrived at DHL Delivery Facility  NARITA - JAPAN  4  5   \n",
       "3219  Votre envoi est réexpédié à la demande du dest...  4  3   \n",
       "3261  Item delivered to the Addressee at the post of...  2  1   \n",
       "3348                              Delivery to consignee  2  6   \n",
       "3522                                Cannot be delivered  3  0   \n",
       "3611                         Item accepted for delivery  2  4   \n",
       "3750        Arrived at DHL Sort Facility VENICE - ITALY  5  4   \n",
       "3791  IN_TRANSIT_WITHIN_DESTINATION_COUNTRY - The pa...  4  3   \n",
       "3855                                              MOVED  3  4   \n",
       "3876                     Delivered to UPS Access Point™  1  2   \n",
       "4079                      EN ROUTE TO DELIVERY LOCATION  4  3   \n",
       "4097  Votre courrier a été distribué à l'adresse (au...  2  4   \n",
       "4205                                Picked up/Collected  2  4   \n",
       "4302  Arrived at DHL Delivery Facility  BRUNEI - BRUNEI  4  5   \n",
       "4339        Arrived at DHL Sort Facility VENICE - ITALY  5  4   \n",
       "4459  Item is on its way to a box lobby or other col...  4  1   \n",
       "4505                       Отправлен в город получателя  4  3   \n",
       "4585  Votre colis vous attend dans votre point de re...  4  3   \n",
       "4802    Arrived at DHL Delivery Facility  NICE - FRANCE  4  5   \n",
       "4956                     Delivered to UPS Access Point™  1  2   \n",
       "5434  We could not deliver your item as the business...  4  0   \n",
       "5597        Arrived at DHL Sort Facility VENICE - ITALY  5  4   \n",
       "5754                                     FINAL DELIVERY  2  0   \n",
       "6028                             Sendingen er utlevert.  2  4   \n",
       "6176      Envío en espera de próximo intento de entrega  4  0   \n",
       "6274                 Branch Outbound in Delivery Branch  4  6   \n",
       "6376        Arrived at DHL Sort Facility VENICE - ITALY  5  4   \n",
       "\n",
       "              true label       predict label  \n",
       "127            Delivered           InTransit  \n",
       "145            InTransit      OutForDelivery  \n",
       "191            Delivered           InTransit  \n",
       "245            InTransit           Exception  \n",
       "320            InTransit        InfoReceived  \n",
       "375            InTransit        InfoReceived  \n",
       "444            Delivered      OutForDelivery  \n",
       "497            Exception           InTransit  \n",
       "570            Delivered  AvailableForPickup  \n",
       "636            InTransit        InfoReceived  \n",
       "1099           Delivered  AvailableForPickup  \n",
       "1139           InTransit  AvailableForPickup  \n",
       "1161           InTransit           Delivered  \n",
       "1401           InTransit         AttemptFail  \n",
       "1664           Exception         AttemptFail  \n",
       "1705           InTransit           Exception  \n",
       "1823           Exception           InTransit  \n",
       "1900           Delivered      OutForDelivery  \n",
       "2221        InfoReceived           InTransit  \n",
       "2299           InTransit      OutForDelivery  \n",
       "2388           InTransit        InfoReceived  \n",
       "2404           Exception           InTransit  \n",
       "2463           InTransit      OutForDelivery  \n",
       "2549           Exception           InTransit  \n",
       "2594        InfoReceived           InTransit  \n",
       "2667        InfoReceived           InTransit  \n",
       "2770  AvailableForPickup           Delivered  \n",
       "2838           InTransit           Exception  \n",
       "2913           InTransit           Delivered  \n",
       "2977           Delivered      OutForDelivery  \n",
       "3092           InTransit         AttemptFail  \n",
       "3139        InfoReceived           InTransit  \n",
       "3199           InTransit        InfoReceived  \n",
       "3219           InTransit           Exception  \n",
       "3261           Delivered  AvailableForPickup  \n",
       "3348           Delivered      OutForDelivery  \n",
       "3522           Exception         AttemptFail  \n",
       "3611           Delivered           InTransit  \n",
       "3750        InfoReceived           InTransit  \n",
       "3791           InTransit           Exception  \n",
       "3855           Exception           InTransit  \n",
       "3876  AvailableForPickup           Delivered  \n",
       "4079           InTransit           Exception  \n",
       "4097           Delivered           InTransit  \n",
       "4205           Delivered           InTransit  \n",
       "4302           InTransit        InfoReceived  \n",
       "4339        InfoReceived           InTransit  \n",
       "4459           InTransit  AvailableForPickup  \n",
       "4505           InTransit           Exception  \n",
       "4585           InTransit           Exception  \n",
       "4802           InTransit        InfoReceived  \n",
       "4956  AvailableForPickup           Delivered  \n",
       "5434           InTransit         AttemptFail  \n",
       "5597        InfoReceived           InTransit  \n",
       "5754           Delivered         AttemptFail  \n",
       "6028           Delivered           InTransit  \n",
       "6176           InTransit         AttemptFail  \n",
       "6274           InTransit      OutForDelivery  \n",
       "6376        InfoReceived           InTransit  "
      ]
     },
     "execution_count": 124,
     "metadata": {},
     "output_type": "execute_result"
    }
   ],
   "source": [
    "## Print out wrongly classified messages\n",
    "dfx=pd.DataFrame(X_test)\n",
    "dfy=pd.DataFrame(y_test)\n",
    "dfy_=pd.DataFrame(svm.predict(X_test_vector))\n",
    "df_check=pd.concat([dfx,dfy,dfy_],axis=1)\n",
    "df_check['true label']=df_check.iloc[:,1].map(code_map)\n",
    "df_check['predict label']=df_check.iloc[:,2].map(code_map)\n",
    "print(len(df_check[df_check['true label']!=df_check['predict label']]))\n",
    "df_check[df_check['true label']!=df_check['predict label']]"
   ]
  },
  {
   "cell_type": "code",
   "execution_count": 87,
   "metadata": {},
   "outputs": [],
   "source": [
    "## construct pipeline\n",
    "from sklearn.pipeline import Pipeline\n",
    "pipe = Pipeline([('vectorizer', vectorizer), ('svm', svm)])"
   ]
  },
  {
   "cell_type": "code",
   "execution_count": 88,
   "metadata": {},
   "outputs": [],
   "source": [
    "def status_classify(status):\n",
    "    if type(status)==str:\n",
    "        status=[status]\n",
    "    CLASS=pipe.predict(status)\n",
    "    LABEL=[code_map[target] for target in CLASS]\n",
    "    PROB=pipe.predict_proba(status)\n",
    "    PROB.sort(axis=1)\n",
    "    return list(zip(LABEL,PROB[:,-1]))"
   ]
  },
  {
   "cell_type": "code",
   "execution_count": 125,
   "metadata": {},
   "outputs": [
    {
     "data": {
      "text/plain": [
       "[('AvailableForPickup', 0.9965748238599403)]"
      ]
     },
     "execution_count": 125,
     "metadata": {},
     "output_type": "execute_result"
    }
   ],
   "source": [
    "status_classify([\"Votre envoi est disponible en point de retrait.\"])"
   ]
  },
  {
   "cell_type": "code",
   "execution_count": null,
   "metadata": {},
   "outputs": [],
   "source": []
  }
 ],
 "metadata": {
  "kernelspec": {
   "display_name": "base",
   "language": "python",
   "name": "python3"
  },
  "language_info": {
   "codemirror_mode": {
    "name": "ipython",
    "version": 3
   },
   "file_extension": ".py",
   "mimetype": "text/x-python",
   "name": "python",
   "nbconvert_exporter": "python",
   "pygments_lexer": "ipython3",
   "version": "3.9.5"
  },
  "orig_nbformat": 4
 },
 "nbformat": 4,
 "nbformat_minor": 2
}
