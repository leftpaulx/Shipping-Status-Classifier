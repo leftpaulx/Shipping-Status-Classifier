{
 "cells": [
  {
   "cell_type": "code",
   "execution_count": 1,
   "metadata": {},
   "outputs": [],
   "source": [
    "import pandas as pd\n",
    "import numpy as np\n",
    "import matplotlib.pyplot as plt\n",
    "import seaborn as sns\n",
    "import re\n",
    "import time"
   ]
  },
  {
   "cell_type": "markdown",
   "metadata": {},
   "source": [
    "## Data Import"
   ]
  },
  {
   "cell_type": "code",
   "execution_count": 2,
   "metadata": {},
   "outputs": [],
   "source": [
    "df1=pd.read_csv('shipping_tag1.csv')\n",
    "df2=pd.read_csv('shipping_tag2.csv')"
   ]
  },
  {
   "cell_type": "code",
   "execution_count": 3,
   "metadata": {},
   "outputs": [
    {
     "data": {
      "text/html": [
       "<div>\n",
       "<style scoped>\n",
       "    .dataframe tbody tr th:only-of-type {\n",
       "        vertical-align: middle;\n",
       "    }\n",
       "\n",
       "    .dataframe tbody tr th {\n",
       "        vertical-align: top;\n",
       "    }\n",
       "\n",
       "    .dataframe thead th {\n",
       "        text-align: right;\n",
       "    }\n",
       "</style>\n",
       "<table border=\"1\" class=\"dataframe\">\n",
       "  <thead>\n",
       "    <tr style=\"text-align: right;\">\n",
       "      <th></th>\n",
       "      <th>tag</th>\n",
       "      <th>message</th>\n",
       "    </tr>\n",
       "  </thead>\n",
       "  <tbody>\n",
       "    <tr>\n",
       "      <th>407097</th>\n",
       "      <td>InTransit</td>\n",
       "      <td>Envío clasificado en Centro Logístico</td>\n",
       "    </tr>\n",
       "    <tr>\n",
       "      <th>485328</th>\n",
       "      <td>InTransit</td>\n",
       "      <td>Package received for processing</td>\n",
       "    </tr>\n",
       "    <tr>\n",
       "      <th>281225</th>\n",
       "      <td>InTransit</td>\n",
       "      <td>Votre envoi vient de quitter son pays d'expédi...</td>\n",
       "    </tr>\n",
       "    <tr>\n",
       "      <th>507444</th>\n",
       "      <td>InTransit</td>\n",
       "      <td>Arrived at Post Office</td>\n",
       "    </tr>\n",
       "    <tr>\n",
       "      <th>145345</th>\n",
       "      <td>InTransit</td>\n",
       "      <td>In lavorazione presso il Centro Scambi Interna...</td>\n",
       "    </tr>\n",
       "    <tr>\n",
       "      <th>364207</th>\n",
       "      <td>InTransit</td>\n",
       "      <td>Received at Canada Post Induction Center</td>\n",
       "    </tr>\n",
       "    <tr>\n",
       "      <th>306946</th>\n",
       "      <td>InTransit</td>\n",
       "      <td>Item processed at facility</td>\n",
       "    </tr>\n",
       "    <tr>\n",
       "      <th>24144</th>\n",
       "      <td>Delivered</td>\n",
       "      <td>Delivered</td>\n",
       "    </tr>\n",
       "    <tr>\n",
       "      <th>356225</th>\n",
       "      <td>InTransit</td>\n",
       "      <td>EN ROUTE TO DHL ECOMMERCE</td>\n",
       "    </tr>\n",
       "    <tr>\n",
       "      <th>161748</th>\n",
       "      <td>InTransit</td>\n",
       "      <td>Chegou ao centro operacional</td>\n",
       "    </tr>\n",
       "  </tbody>\n",
       "</table>\n",
       "</div>"
      ],
      "text/plain": [
       "              tag                                            message\n",
       "407097  InTransit              Envío clasificado en Centro Logístico\n",
       "485328  InTransit                    Package received for processing\n",
       "281225  InTransit  Votre envoi vient de quitter son pays d'expédi...\n",
       "507444  InTransit                             Arrived at Post Office\n",
       "145345  InTransit  In lavorazione presso il Centro Scambi Interna...\n",
       "364207  InTransit           Received at Canada Post Induction Center\n",
       "306946  InTransit                         Item processed at facility\n",
       "24144   Delivered                                          Delivered\n",
       "356225  InTransit                          EN ROUTE TO DHL ECOMMERCE\n",
       "161748  InTransit                       Chegou ao centro operacional"
      ]
     },
     "execution_count": 3,
     "metadata": {},
     "output_type": "execute_result"
    }
   ],
   "source": [
    "df1.sample(10)\n"
   ]
  },
  {
   "cell_type": "code",
   "execution_count": 4,
   "metadata": {},
   "outputs": [
    {
     "data": {
      "text/html": [
       "<div>\n",
       "<style scoped>\n",
       "    .dataframe tbody tr th:only-of-type {\n",
       "        vertical-align: middle;\n",
       "    }\n",
       "\n",
       "    .dataframe tbody tr th {\n",
       "        vertical-align: top;\n",
       "    }\n",
       "\n",
       "    .dataframe thead th {\n",
       "        text-align: right;\n",
       "    }\n",
       "</style>\n",
       "<table border=\"1\" class=\"dataframe\">\n",
       "  <thead>\n",
       "    <tr style=\"text-align: right;\">\n",
       "      <th></th>\n",
       "      <th>tag</th>\n",
       "      <th>message</th>\n",
       "      <th>original_message</th>\n",
       "    </tr>\n",
       "  </thead>\n",
       "  <tbody>\n",
       "    <tr>\n",
       "      <th>0</th>\n",
       "      <td>AttemptFail</td>\n",
       "      <td>Vi har været forbi med din forsendelse, men vi...</td>\n",
       "      <td>NaN</td>\n",
       "    </tr>\n",
       "    <tr>\n",
       "      <th>1</th>\n",
       "      <td>AttemptFail</td>\n",
       "      <td>ATTEMPTED DELIVERY</td>\n",
       "      <td>NaN</td>\n",
       "    </tr>\n",
       "    <tr>\n",
       "      <th>2</th>\n",
       "      <td>AttemptFail</td>\n",
       "      <td>Delivery attempt</td>\n",
       "      <td>NaN</td>\n",
       "    </tr>\n",
       "    <tr>\n",
       "      <th>3</th>\n",
       "      <td>AttemptFail</td>\n",
       "      <td>Delivery was not possible. The recipient will ...</td>\n",
       "      <td>NaN</td>\n",
       "    </tr>\n",
       "    <tr>\n",
       "      <th>4</th>\n",
       "      <td>AttemptFail</td>\n",
       "      <td>Vi har været forbi med din forsendelse, men vi...</td>\n",
       "      <td>NaN</td>\n",
       "    </tr>\n",
       "  </tbody>\n",
       "</table>\n",
       "</div>"
      ],
      "text/plain": [
       "           tag                                            message  \\\n",
       "0  AttemptFail  Vi har været forbi med din forsendelse, men vi...   \n",
       "1  AttemptFail                                 ATTEMPTED DELIVERY   \n",
       "2  AttemptFail                                   Delivery attempt   \n",
       "3  AttemptFail  Delivery was not possible. The recipient will ...   \n",
       "4  AttemptFail  Vi har været forbi med din forsendelse, men vi...   \n",
       "\n",
       "  original_message  \n",
       "0              NaN  \n",
       "1              NaN  \n",
       "2              NaN  \n",
       "3              NaN  \n",
       "4              NaN  "
      ]
     },
     "execution_count": 4,
     "metadata": {},
     "output_type": "execute_result"
    }
   ],
   "source": [
    "df2.head()"
   ]
  },
  {
   "cell_type": "code",
   "execution_count": 5,
   "metadata": {},
   "outputs": [],
   "source": [
    "del df2['original_message']"
   ]
  },
  {
   "cell_type": "code",
   "execution_count": 6,
   "metadata": {},
   "outputs": [],
   "source": [
    "df=pd.concat([df1,df2])"
   ]
  },
  {
   "cell_type": "code",
   "execution_count": 7,
   "metadata": {},
   "outputs": [
    {
     "data": {
      "text/html": [
       "<div>\n",
       "<style scoped>\n",
       "    .dataframe tbody tr th:only-of-type {\n",
       "        vertical-align: middle;\n",
       "    }\n",
       "\n",
       "    .dataframe tbody tr th {\n",
       "        vertical-align: top;\n",
       "    }\n",
       "\n",
       "    .dataframe thead th {\n",
       "        text-align: right;\n",
       "    }\n",
       "</style>\n",
       "<table border=\"1\" class=\"dataframe\">\n",
       "  <thead>\n",
       "    <tr style=\"text-align: right;\">\n",
       "      <th></th>\n",
       "      <th>tag</th>\n",
       "      <th>message</th>\n",
       "    </tr>\n",
       "  </thead>\n",
       "  <tbody>\n",
       "    <tr>\n",
       "      <th>0</th>\n",
       "      <td>AttemptFail</td>\n",
       "      <td>Próba doręczenia</td>\n",
       "    </tr>\n",
       "    <tr>\n",
       "      <th>1</th>\n",
       "      <td>AttemptFail</td>\n",
       "      <td>Delivery attempt</td>\n",
       "    </tr>\n",
       "    <tr>\n",
       "      <th>2</th>\n",
       "      <td>AttemptFail</td>\n",
       "      <td>Vi har været forbi med din forsendelse, men vi...</td>\n",
       "    </tr>\n",
       "    <tr>\n",
       "      <th>3</th>\n",
       "      <td>AttemptFail</td>\n",
       "      <td>Delivery attempt</td>\n",
       "    </tr>\n",
       "    <tr>\n",
       "      <th>4</th>\n",
       "      <td>AttemptFail</td>\n",
       "      <td>Delivery attempted; recipient not home</td>\n",
       "    </tr>\n",
       "  </tbody>\n",
       "</table>\n",
       "</div>"
      ],
      "text/plain": [
       "           tag                                            message\n",
       "0  AttemptFail                                   Próba doręczenia\n",
       "1  AttemptFail                                   Delivery attempt\n",
       "2  AttemptFail  Vi har været forbi med din forsendelse, men vi...\n",
       "3  AttemptFail                                   Delivery attempt\n",
       "4  AttemptFail             Delivery attempted; recipient not home"
      ]
     },
     "execution_count": 7,
     "metadata": {},
     "output_type": "execute_result"
    }
   ],
   "source": [
    "df.head()"
   ]
  },
  {
   "cell_type": "markdown",
   "metadata": {},
   "source": [
    "## Data Cleaning"
   ]
  },
  {
   "cell_type": "code",
   "execution_count": 8,
   "metadata": {},
   "outputs": [
    {
     "data": {
      "text/plain": [
       "953786"
      ]
     },
     "execution_count": 8,
     "metadata": {},
     "output_type": "execute_result"
    }
   ],
   "source": [
    "#check duplicates\n",
    "sum(df.duplicated())"
   ]
  },
  {
   "cell_type": "code",
   "execution_count": 9,
   "metadata": {},
   "outputs": [],
   "source": [
    "df.drop_duplicates(inplace=True)"
   ]
  },
  {
   "cell_type": "code",
   "execution_count": 10,
   "metadata": {},
   "outputs": [
    {
     "data": {
      "text/plain": [
       "137"
      ]
     },
     "execution_count": 10,
     "metadata": {},
     "output_type": "execute_result"
    }
   ],
   "source": [
    "#check messages with multiple tags\n",
    "message_count=df['message'].value_counts()\n",
    "dup_message=message_count[message_count>1].index\n",
    "len(dup_message)"
   ]
  },
  {
   "cell_type": "code",
   "execution_count": 11,
   "metadata": {},
   "outputs": [],
   "source": [
    "#drop those with multiple tags\n",
    "df=df[~df['message'].isin(dup_message)]"
   ]
  },
  {
   "cell_type": "code",
   "execution_count": 12,
   "metadata": {},
   "outputs": [
    {
     "data": {
      "text/plain": [
       "InTransit             4661\n",
       "Delivered             1862\n",
       "AvailableForPickup     459\n",
       "Exception              273\n",
       "AttemptFail            216\n",
       "InfoReceived           191\n",
       "OutForDelivery         174\n",
       "Name: tag, dtype: int64"
      ]
     },
     "execution_count": 12,
     "metadata": {},
     "output_type": "execute_result"
    }
   ],
   "source": [
    "## imbalance class\n",
    "df.tag.value_counts()"
   ]
  },
  {
   "cell_type": "code",
   "execution_count": 13,
   "metadata": {},
   "outputs": [
    {
     "data": {
      "text/plain": [
       "(array([0, 1, 2, 3, 4, 5, 6]),\n",
       " [Text(0, 0, 'AttemptFail'),\n",
       "  Text(1, 0, 'AvailableForPickup'),\n",
       "  Text(2, 0, 'Delivered'),\n",
       "  Text(3, 0, 'Exception'),\n",
       "  Text(4, 0, 'InTransit'),\n",
       "  Text(5, 0, 'InfoReceived'),\n",
       "  Text(6, 0, 'OutForDelivery')])"
      ]
     },
     "execution_count": 13,
     "metadata": {},
     "output_type": "execute_result"
    },
    {
     "data": {
      "image/png": "[encoded data removed]",
      "text/plain": [
       "<Figure size 432x288 with 1 Axes>"
      ]
     },
     "metadata": {
      "needs_background": "light"
     },
     "output_type": "display_data"
    }
   ],
   "source": [
    "## imbalanced class, will need to do class balancing after train test split\n",
    "sns.countplot(data=df,x='tag')\n",
    "plt.xticks(rotation=90)"
   ]
  },
  {
   "cell_type": "code",
   "execution_count": 14,
   "metadata": {},
   "outputs": [],
   "source": [
    "df['tag']=df['tag'].astype('category')\n",
    "df['tag_code']=df['tag'].cat.codes\n",
    "code_map=dict(zip(df['tag'].cat.codes,df['tag']))"
   ]
  },
  {
   "cell_type": "code",
   "execution_count": 15,
   "metadata": {},
   "outputs": [
    {
     "data": {
      "text/html": [
       "<div>\n",
       "<style scoped>\n",
       "    .dataframe tbody tr th:only-of-type {\n",
       "        vertical-align: middle;\n",
       "    }\n",
       "\n",
       "    .dataframe tbody tr th {\n",
       "        vertical-align: top;\n",
       "    }\n",
       "\n",
       "    .dataframe thead th {\n",
       "        text-align: right;\n",
       "    }\n",
       "</style>\n",
       "<table border=\"1\" class=\"dataframe\">\n",
       "  <thead>\n",
       "    <tr style=\"text-align: right;\">\n",
       "      <th></th>\n",
       "      <th>tag</th>\n",
       "      <th>message</th>\n",
       "      <th>tag_code</th>\n",
       "    </tr>\n",
       "  </thead>\n",
       "  <tbody>\n",
       "    <tr>\n",
       "      <th>403836</th>\n",
       "      <td>InTransit</td>\n",
       "      <td>Item Despatched to Frodsham DO</td>\n",
       "      <td>4</td>\n",
       "    </tr>\n",
       "    <tr>\n",
       "      <th>38476</th>\n",
       "      <td>Delivered</td>\n",
       "      <td>The parcel has been delivered. Signed by: Carlos</td>\n",
       "      <td>2</td>\n",
       "    </tr>\n",
       "    <tr>\n",
       "      <th>263362</th>\n",
       "      <td>InTransit</td>\n",
       "      <td>Item Despatched to Brinklow DO</td>\n",
       "      <td>4</td>\n",
       "    </tr>\n",
       "    <tr>\n",
       "      <th>604528</th>\n",
       "      <td>InTransit</td>\n",
       "      <td>Arrived at DHL Delivery Facility  ONTARIO SERV...</td>\n",
       "      <td>4</td>\n",
       "    </tr>\n",
       "    <tr>\n",
       "      <th>27321</th>\n",
       "      <td>Delivered</td>\n",
       "      <td>Your item has been successfully delivered and ...</td>\n",
       "      <td>2</td>\n",
       "    </tr>\n",
       "    <tr>\n",
       "      <th>...</th>\n",
       "      <td>...</td>\n",
       "      <td>...</td>\n",
       "      <td>...</td>\n",
       "    </tr>\n",
       "    <tr>\n",
       "      <th>253573</th>\n",
       "      <td>InTransit</td>\n",
       "      <td>Item Despatched to Putney DO</td>\n",
       "      <td>4</td>\n",
       "    </tr>\n",
       "    <tr>\n",
       "      <th>252334</th>\n",
       "      <td>InTransit</td>\n",
       "      <td>Shipment is in transit to destination BANGKOK ...</td>\n",
       "      <td>4</td>\n",
       "    </tr>\n",
       "    <tr>\n",
       "      <th>436986</th>\n",
       "      <td>InTransit</td>\n",
       "      <td>Departed Facility in  QUEBEC SERVICE AREA - CA...</td>\n",
       "      <td>4</td>\n",
       "    </tr>\n",
       "    <tr>\n",
       "      <th>596563</th>\n",
       "      <td>InTransit</td>\n",
       "      <td>DISPATCH CLOS M.D. N. FILADELFEIAS</td>\n",
       "      <td>4</td>\n",
       "    </tr>\n",
       "    <tr>\n",
       "      <th>59818</th>\n",
       "      <td>Delivered</td>\n",
       "      <td>The parcel has been delivered. Signed by: Vd Berg</td>\n",
       "      <td>2</td>\n",
       "    </tr>\n",
       "  </tbody>\n",
       "</table>\n",
       "<p>100 rows × 3 columns</p>\n",
       "</div>"
      ],
      "text/plain": [
       "              tag                                            message  tag_code\n",
       "403836  InTransit                     Item Despatched to Frodsham DO         4\n",
       "38476   Delivered   The parcel has been delivered. Signed by: Carlos         2\n",
       "263362  InTransit                     Item Despatched to Brinklow DO         4\n",
       "604528  InTransit  Arrived at DHL Delivery Facility  ONTARIO SERV...         4\n",
       "27321   Delivered  Your item has been successfully delivered and ...         2\n",
       "...           ...                                                ...       ...\n",
       "253573  InTransit                       Item Despatched to Putney DO         4\n",
       "252334  InTransit  Shipment is in transit to destination BANGKOK ...         4\n",
       "436986  InTransit  Departed Facility in  QUEBEC SERVICE AREA - CA...         4\n",
       "596563  InTransit                 DISPATCH CLOS M.D. N. FILADELFEIAS         4\n",
       "59818   Delivered  The parcel has been delivered. Signed by: Vd Berg         2\n",
       "\n",
       "[100 rows x 3 columns]"
      ]
     },
     "execution_count": 15,
     "metadata": {},
     "output_type": "execute_result"
    }
   ],
   "source": [
    "df.sample(100)"
   ]
  },
  {
   "cell_type": "markdown",
   "metadata": {},
   "source": [
    "## NLP"
   ]
  },
  {
   "cell_type": "code",
   "execution_count": 16,
   "metadata": {},
   "outputs": [],
   "source": [
    "import spacy\n",
    "import spacy_fastlang\n",
    "##from googletrans import Translator  ## online translator accessing google's api\n",
    "import argostranslate.package       ## offline translator\n",
    "import argostranslate.translate"
   ]
  },
  {
   "cell_type": "code",
   "execution_count": 17,
   "metadata": {},
   "outputs": [
    {
     "name": "stderr",
     "output_type": "stream",
     "text": [
      "Warning : `load_model` does not return WordVectorModel or SupervisedModel any more, but a `FastText` object which is very similar.\n"
     ]
    }
   ],
   "source": [
    "nlp = spacy.load(\"en_core_web_trf\")\n",
    "nlp.add_pipe(\"language_detector\")\n",
    "stopwords = spacy.lang.en.stop_words.STOP_WORDS"
   ]
  },
  {
   "cell_type": "code",
   "execution_count": 18,
   "metadata": {},
   "outputs": [],
   "source": [
    "## build custom stopword list, not , n't ,out , re are important in the shipping, needs to keep \n",
    "real_stopwords=stopwords-{\"not\",\"n't\",\"out\",'re'}"
   ]
  },
  {
   "cell_type": "code",
   "execution_count": 19,
   "metadata": {},
   "outputs": [],
   "source": [
    "## use ner tag to replace location, name\n",
    "def ner_replacement(article):\n",
    "    doc=nlp(article)\n",
    "    ner=[(token.text,token.label_) for token in doc.ents]\n",
    "    for text, entity in ner:\n",
    "        article=article.replace(text,entity)\n",
    "    return article\n"
   ]
  },
  {
   "cell_type": "code",
   "execution_count": 20,
   "metadata": {},
   "outputs": [
    {
     "data": {
      "text/plain": [
       "'The parcel has been delivered in GPE'"
      ]
     },
     "execution_count": 20,
     "metadata": {},
     "output_type": "execute_result"
    }
   ],
   "source": [
    "## eg\n",
    "ner_replacement('The parcel has been delivered in los angeles')\n"
   ]
  },
  {
   "cell_type": "code",
   "execution_count": 21,
   "metadata": {},
   "outputs": [],
   "source": [
    "## all argostranslate supporting langs\n",
    "arg_support_lang=\\\n",
    "['ar',\n",
    " 'az',\n",
    " 'ca',\n",
    " 'zh',\n",
    " 'cs',\n",
    " 'da',\n",
    " 'nl',\n",
    " 'eo',\n",
    " 'fi',\n",
    " 'fr',\n",
    " 'de',\n",
    " 'el',\n",
    " 'he',\n",
    " 'hi',\n",
    " 'hu',\n",
    " 'id',\n",
    " 'ga',\n",
    " 'it',\n",
    " 'ja',\n",
    " 'ko',\n",
    " 'fa',\n",
    " 'pl',\n",
    " 'pt',\n",
    " 'ru',\n",
    " 'sk',\n",
    " 'es',\n",
    " 'sv',\n",
    " 'th',\n",
    " 'tr',\n",
    " 'uk']"
   ]
  },
  {
   "cell_type": "code",
   "execution_count": 22,
   "metadata": {},
   "outputs": [],
   "source": [
    "\n",
    "#Download and install Argos Translate package, run this cell first time running the code.\n",
    "# from_code =arg_support_lang\n",
    "# argostranslate.package.update_package_index()\n",
    "# available_packages = argostranslate.package.get_available_packages()\n",
    "# for code in from_code:\n",
    "#     package_to_install = next(\n",
    "#         filter(\n",
    "#             lambda x: x.from_code == code, available_packages\n",
    "#         )\n",
    "#     )\n",
    "#     argostranslate.package.install_from_path(package_to_install.download())\n",
    "# package_to_install = next(\n",
    "#         filter(\n",
    "#             lambda x: x.to_code == 'en', available_packages\n",
    "#         )\n",
    "#     )\n",
    "# argostranslate.package.install_from_path(package_to_install.download())"
   ]
  },
  {
   "cell_type": "code",
   "execution_count": 23,
   "metadata": {},
   "outputs": [],
   "source": [
    "## Construct the tokenizer\n",
    "def cust_lemmatizer(article):\n",
    "    doc=nlp(article)\n",
    "    # if doc._.language=='en':\n",
    "    #     en_article=article\n",
    "    if doc._.language in arg_support_lang:\n",
    "        en_article = argostranslate.translate.translate(article, doc._.language, 'en')\n",
    "    else:\n",
    "        en_article=article\n",
    "        # time.sleep(2)\n",
    "        # en_article=Translator().translate(article, dest='en').text\n",
    "    simplified_en_article=ner_replacement(en_article)\n",
    "    clean_en_article=' '.join(re.findall(\"[\\w _\\-']+\",simplified_en_article))\n",
    "    doc1=nlp(clean_en_article)\n",
    "    lemmas=[token.lemma_ for token in doc1 if not token.is_space]\n",
    "    return [lemma for lemma in lemmas if lemma not in real_stopwords]\n",
    "    \n",
    "    "
   ]
  },
  {
   "cell_type": "code",
   "execution_count": 24,
   "metadata": {},
   "outputs": [
    {
     "data": {
      "text/plain": [
       "['parcel', 'deliver', 'GPE']"
      ]
     },
     "execution_count": 24,
     "metadata": {},
     "output_type": "execute_result"
    }
   ],
   "source": [
    "## e.g.\n",
    "cust_lemmatizer(\"The parcel has been delivered in los angeles\")\n"
   ]
  },
  {
   "cell_type": "code",
   "execution_count": 25,
   "metadata": {},
   "outputs": [],
   "source": [
    "X=df.message.values\n",
    "y=df.tag_code.values"
   ]
  },
  {
   "cell_type": "code",
   "execution_count": 26,
   "metadata": {},
   "outputs": [],
   "source": [
    "# Train test split\n",
    "from sklearn.model_selection import train_test_split\n",
    "X_train,X_test,y_train,y_test=train_test_split(X,y,test_size=0.2,stratify=y,random_state=3)"
   ]
  },
  {
   "cell_type": "code",
   "execution_count": 27,
   "metadata": {},
   "outputs": [],
   "source": [
    "# Class balancing on train test: oversampling all other classes other than InTransit\n",
    "from imblearn.over_sampling import RandomOverSampler\n",
    "sampler=RandomOverSampler(random_state=3,sampling_strategy='not majority')\n",
    "X_train_rs,y_train_rs=sampler.fit_resample(X_train.reshape(-1, 1) ,y_train)"
   ]
  },
  {
   "cell_type": "code",
   "execution_count": 70,
   "metadata": {},
   "outputs": [
    {
     "name": "stdout",
     "output_type": "stream",
     "text": [
      "(array([0, 1, 2, 3, 4, 5, 6], dtype=int8), array([ 173,  367, 1490,  218, 3728,  153,  139], dtype=int64))\n",
      "(array([0, 1, 2, 3, 4, 5, 6], dtype=int8), array([3728, 3728, 3728, 3728, 3728, 3728, 3728], dtype=int64))\n"
     ]
    }
   ],
   "source": [
    "# Class distribution before and after balancing\n",
    "print(np.unique(y_train,return_counts=True))\n",
    "print(np.unique(y_train_rs,return_counts=True))"
   ]
  },
  {
   "cell_type": "code",
   "execution_count": 29,
   "metadata": {},
   "outputs": [],
   "source": [
    "## vectorize messages\n",
    "from sklearn.feature_extraction.text import CountVectorizer\n",
    "vectorizer=CountVectorizer(tokenizer=cust_lemmatizer,ngram_range=(1,2),min_df=3)"
   ]
  },
  {
   "cell_type": "code",
   "execution_count": 30,
   "metadata": {},
   "outputs": [
    {
     "name": "stderr",
     "output_type": "stream",
     "text": [
      "c:\\Users\\paulx\\anaconda3\\lib\\site-packages\\sklearn\\feature_extraction\\text.py:525: UserWarning: The parameter 'token_pattern' will not be used since 'tokenizer' is not None'\n",
      "  warnings.warn(\n"
     ]
    }
   ],
   "source": [
    "X_train_vector=vectorizer.fit_transform(X_train_rs[:,0])"
   ]
  },
  {
   "cell_type": "code",
   "execution_count": 32,
   "metadata": {},
   "outputs": [],
   "source": [
    "X_test_vector=vectorizer.transform(X_test)"
   ]
  },
  {
   "cell_type": "code",
   "execution_count": 33,
   "metadata": {},
   "outputs": [
    {
     "name": "stdout",
     "output_type": "stream",
     "text": [
      "(26096, 4164)\n",
      "(1568, 4164)\n"
     ]
    }
   ],
   "source": [
    "print(X_train_vector.toarray().shape)\n",
    "print(X_test_vector.toarray().shape)"
   ]
  },
  {
   "cell_type": "markdown",
   "metadata": {},
   "source": [
    "## Modeling"
   ]
  },
  {
   "cell_type": "code",
   "execution_count": 34,
   "metadata": {},
   "outputs": [],
   "source": [
    "from sklearn.naive_bayes import MultinomialNB\n",
    "from sklearn.model_selection import RandomizedSearchCV\n",
    "from xgboost import XGBClassifier\n",
    "from sklearn.svm import SVC\n",
    "from sklearn.linear_model import LogisticRegression"
   ]
  },
  {
   "cell_type": "code",
   "execution_count": 35,
   "metadata": {},
   "outputs": [],
   "source": [
    "## Algorithm, hyperparamter gridsearch\n",
    "model_params = {\n",
    "    'svm': {\n",
    "        'model': SVC(),\n",
    "        'params' : {\n",
    "            'C': [1, 5,10],\n",
    "            'kernel': ['linear', 'poly', 'rbf', 'sigmoid'],\n",
    "            'gamma': ['scale','auto']\n",
    "        }  \n",
    "    },\n",
    "    'xgboost': {\n",
    "        'model': XGBClassifier(),\n",
    "        'params' : {\n",
    "                'max_depth': [4, 6, 8],\n",
    "                'n_estimators': [ 100, 250,500,750],\n",
    "                \"learning_rate\": [0.01,0.1,0.3],\n",
    "                'colsample_bytree': np.arange(0.5, 1.0, 0.1),\n",
    "                'colsample_bylevel': np.arange(0.5, 1.0, 0.1)\n",
    "        }\n",
    "    },\n",
    "     'nb' : {\n",
    "        'model': MultinomialNB(),\n",
    "        'params': {\n",
    "            'alpha': np.arange(1,10,1)\n",
    "        }\n",
    "     },\n",
    "    'logistics regression' : {\n",
    "    'model': LogisticRegression(),\n",
    "    'params': {\n",
    "        'penalty': ['l2',None],\n",
    "        'solver': ['lbfgs','newton-cg','sag','saga']\n",
    "        }\n",
    "    }\n",
    "}"
   ]
  },
  {
   "cell_type": "code",
   "execution_count": 36,
   "metadata": {},
   "outputs": [
    {
     "name": "stderr",
     "output_type": "stream",
     "text": [
      "c:\\Users\\paulx\\anaconda3\\lib\\site-packages\\sklearn\\model_selection\\_search.py:307: UserWarning: The total space of parameters 9 is smaller than n_iter=20. Running 9 iterations. For exhaustive searches, use GridSearchCV.\n",
      "  warnings.warn(\n",
      "c:\\Users\\paulx\\anaconda3\\lib\\site-packages\\sklearn\\model_selection\\_search.py:307: UserWarning: The total space of parameters 8 is smaller than n_iter=20. Running 8 iterations. For exhaustive searches, use GridSearchCV.\n",
      "  warnings.warn(\n",
      "c:\\Users\\paulx\\anaconda3\\lib\\site-packages\\sklearn\\linear_model\\_sag.py:350: ConvergenceWarning: The max_iter was reached which means the coef_ did not converge\n",
      "  warnings.warn(\n",
      "c:\\Users\\paulx\\anaconda3\\lib\\site-packages\\sklearn\\linear_model\\_sag.py:350: ConvergenceWarning: The max_iter was reached which means the coef_ did not converge\n",
      "  warnings.warn(\n",
      "c:\\Users\\paulx\\anaconda3\\lib\\site-packages\\sklearn\\linear_model\\_sag.py:350: ConvergenceWarning: The max_iter was reached which means the coef_ did not converge\n",
      "  warnings.warn(\n",
      "c:\\Users\\paulx\\anaconda3\\lib\\site-packages\\sklearn\\linear_model\\_sag.py:350: ConvergenceWarning: The max_iter was reached which means the coef_ did not converge\n",
      "  warnings.warn(\n",
      "c:\\Users\\paulx\\anaconda3\\lib\\site-packages\\sklearn\\linear_model\\_sag.py:350: ConvergenceWarning: The max_iter was reached which means the coef_ did not converge\n",
      "  warnings.warn(\n",
      "c:\\Users\\paulx\\anaconda3\\lib\\site-packages\\sklearn\\linear_model\\_sag.py:350: ConvergenceWarning: The max_iter was reached which means the coef_ did not converge\n",
      "  warnings.warn(\n",
      "c:\\Users\\paulx\\anaconda3\\lib\\site-packages\\sklearn\\linear_model\\_logistic.py:460: ConvergenceWarning: lbfgs failed to converge (status=1):\n",
      "STOP: TOTAL NO. of ITERATIONS REACHED LIMIT.\n",
      "\n",
      "Increase the number of iterations (max_iter) or scale the data as shown in:\n",
      "    https://scikit-learn.org/stable/modules/preprocessing.html\n",
      "Please also refer to the documentation for alternative solver options:\n",
      "    https://scikit-learn.org/stable/modules/linear_model.html#logistic-regression\n",
      "  n_iter_i = _check_optimize_result(\n",
      "c:\\Users\\paulx\\anaconda3\\lib\\site-packages\\sklearn\\linear_model\\_logistic.py:460: ConvergenceWarning: lbfgs failed to converge (status=1):\n",
      "STOP: TOTAL NO. of ITERATIONS REACHED LIMIT.\n",
      "\n",
      "Increase the number of iterations (max_iter) or scale the data as shown in:\n",
      "    https://scikit-learn.org/stable/modules/preprocessing.html\n",
      "Please also refer to the documentation for alternative solver options:\n",
      "    https://scikit-learn.org/stable/modules/linear_model.html#logistic-regression\n",
      "  n_iter_i = _check_optimize_result(\n",
      "c:\\Users\\paulx\\anaconda3\\lib\\site-packages\\sklearn\\linear_model\\_logistic.py:460: ConvergenceWarning: lbfgs failed to converge (status=1):\n",
      "STOP: TOTAL NO. of ITERATIONS REACHED LIMIT.\n",
      "\n",
      "Increase the number of iterations (max_iter) or scale the data as shown in:\n",
      "    https://scikit-learn.org/stable/modules/preprocessing.html\n",
      "Please also refer to the documentation for alternative solver options:\n",
      "    https://scikit-learn.org/stable/modules/linear_model.html#logistic-regression\n",
      "  n_iter_i = _check_optimize_result(\n",
      "c:\\Users\\paulx\\anaconda3\\lib\\site-packages\\sklearn\\linear_model\\_sag.py:350: ConvergenceWarning: The max_iter was reached which means the coef_ did not converge\n",
      "  warnings.warn(\n",
      "c:\\Users\\paulx\\anaconda3\\lib\\site-packages\\sklearn\\linear_model\\_sag.py:350: ConvergenceWarning: The max_iter was reached which means the coef_ did not converge\n",
      "  warnings.warn(\n",
      "c:\\Users\\paulx\\anaconda3\\lib\\site-packages\\sklearn\\linear_model\\_sag.py:350: ConvergenceWarning: The max_iter was reached which means the coef_ did not converge\n",
      "  warnings.warn(\n",
      "c:\\Users\\paulx\\anaconda3\\lib\\site-packages\\sklearn\\linear_model\\_sag.py:350: ConvergenceWarning: The max_iter was reached which means the coef_ did not converge\n",
      "  warnings.warn(\n",
      "c:\\Users\\paulx\\anaconda3\\lib\\site-packages\\sklearn\\linear_model\\_sag.py:350: ConvergenceWarning: The max_iter was reached which means the coef_ did not converge\n",
      "  warnings.warn(\n",
      "c:\\Users\\paulx\\anaconda3\\lib\\site-packages\\sklearn\\linear_model\\_sag.py:350: ConvergenceWarning: The max_iter was reached which means the coef_ did not converge\n",
      "  warnings.warn(\n"
     ]
    },
    {
     "data": {
      "text/html": [
       "<div>\n",
       "<style scoped>\n",
       "    .dataframe tbody tr th:only-of-type {\n",
       "        vertical-align: middle;\n",
       "    }\n",
       "\n",
       "    .dataframe tbody tr th {\n",
       "        vertical-align: top;\n",
       "    }\n",
       "\n",
       "    .dataframe thead th {\n",
       "        text-align: right;\n",
       "    }\n",
       "</style>\n",
       "<table border=\"1\" class=\"dataframe\">\n",
       "  <thead>\n",
       "    <tr style=\"text-align: right;\">\n",
       "      <th></th>\n",
       "      <th>model</th>\n",
       "      <th>best_score</th>\n",
       "      <th>best_params</th>\n",
       "    </tr>\n",
       "  </thead>\n",
       "  <tbody>\n",
       "    <tr>\n",
       "      <th>0</th>\n",
       "      <td>svm</td>\n",
       "      <td>0.99</td>\n",
       "      <td>{'kernel': 'rbf', 'gamma': 'scale', 'C': 10}</td>\n",
       "    </tr>\n",
       "    <tr>\n",
       "      <th>1</th>\n",
       "      <td>xgboost</td>\n",
       "      <td>0.99</td>\n",
       "      <td>{'n_estimators': 750, 'max_depth': 6, 'learnin...</td>\n",
       "    </tr>\n",
       "    <tr>\n",
       "      <th>2</th>\n",
       "      <td>nb</td>\n",
       "      <td>0.96</td>\n",
       "      <td>{'alpha': 1}</td>\n",
       "    </tr>\n",
       "    <tr>\n",
       "      <th>3</th>\n",
       "      <td>logistics regression</td>\n",
       "      <td>0.99</td>\n",
       "      <td>{'solver': 'newton-cg', 'penalty': None}</td>\n",
       "    </tr>\n",
       "  </tbody>\n",
       "</table>\n",
       "</div>"
      ],
      "text/plain": [
       "                  model  best_score  \\\n",
       "0                   svm        0.99   \n",
       "1               xgboost        0.99   \n",
       "2                    nb        0.96   \n",
       "3  logistics regression        0.99   \n",
       "\n",
       "                                         best_params  \n",
       "0       {'kernel': 'rbf', 'gamma': 'scale', 'C': 10}  \n",
       "1  {'n_estimators': 750, 'max_depth': 6, 'learnin...  \n",
       "2                                       {'alpha': 1}  \n",
       "3           {'solver': 'newton-cg', 'penalty': None}  "
      ]
     },
     "execution_count": 36,
     "metadata": {},
     "output_type": "execute_result"
    }
   ],
   "source": [
    "scores = []\n",
    "\n",
    "for model_name, mp in model_params.items():\n",
    "    model =  RandomizedSearchCV(mp['model'], mp['params'], cv=3, n_iter=20)\n",
    "    model.fit(X_train_vector, y_train_rs)\n",
    "    scores.append({\n",
    "        'model': model_name,\n",
    "        'best_score': round(model.best_score_,2),\n",
    "        'best_params': model.best_params_\n",
    "    })\n",
    "    \n",
    "pd.DataFrame(scores,columns=['model','best_score','best_params'])"
   ]
  },
  {
   "cell_type": "code",
   "execution_count": 50,
   "metadata": {},
   "outputs": [
    {
     "data": {
      "text/html": [
       "<style>#sk-container-id-5 {color: black;}#sk-container-id-5 pre{padding: 0;}#sk-container-id-5 div.sk-toggleable {background-color: white;}#sk-container-id-5 label.sk-toggleable__label {cursor: pointer;display: block;width: 100%;margin-bottom: 0;padding: 0.3em;box-sizing: border-box;text-align: center;}#sk-container-id-5 label.sk-toggleable__label-arrow:before {content: \"▸\";float: left;margin-right: 0.25em;color: #696969;}#sk-container-id-5 label.sk-toggleable__label-arrow:hover:before {color: black;}#sk-container-id-5 div.sk-estimator:hover label.sk-toggleable__label-arrow:before {color: black;}#sk-container-id-5 div.sk-toggleable__content {max-height: 0;max-width: 0;overflow: hidden;text-align: left;background-color: #f0f8ff;}#sk-container-id-5 div.sk-toggleable__content pre {margin: 0.2em;color: black;border-radius: 0.25em;background-color: #f0f8ff;}#sk-container-id-5 input.sk-toggleable__control:checked~div.sk-toggleable__content {max-height: 200px;max-width: 100%;overflow: auto;}#sk-container-id-5 input.sk-toggleable__control:checked~label.sk-toggleable__label-arrow:before {content: \"▾\";}#sk-container-id-5 div.sk-estimator input.sk-toggleable__control:checked~label.sk-toggleable__label {background-color: #d4ebff;}#sk-container-id-5 div.sk-label input.sk-toggleable__control:checked~label.sk-toggleable__label {background-color: #d4ebff;}#sk-container-id-5 input.sk-hidden--visually {border: 0;clip: rect(1px 1px 1px 1px);clip: rect(1px, 1px, 1px, 1px);height: 1px;margin: -1px;overflow: hidden;padding: 0;position: absolute;width: 1px;}#sk-container-id-5 div.sk-estimator {font-family: monospace;background-color: #f0f8ff;border: 1px dotted black;border-radius: 0.25em;box-sizing: border-box;margin-bottom: 0.5em;}#sk-container-id-5 div.sk-estimator:hover {background-color: #d4ebff;}#sk-container-id-5 div.sk-parallel-item::after {content: \"\";width: 100%;border-bottom: 1px solid gray;flex-grow: 1;}#sk-container-id-5 div.sk-label:hover label.sk-toggleable__label {background-color: #d4ebff;}#sk-container-id-5 div.sk-serial::before {content: \"\";position: absolute;border-left: 1px solid gray;box-sizing: border-box;top: 0;bottom: 0;left: 50%;z-index: 0;}#sk-container-id-5 div.sk-serial {display: flex;flex-direction: column;align-items: center;background-color: white;padding-right: 0.2em;padding-left: 0.2em;position: relative;}#sk-container-id-5 div.sk-item {position: relative;z-index: 1;}#sk-container-id-5 div.sk-parallel {display: flex;align-items: stretch;justify-content: center;background-color: white;position: relative;}#sk-container-id-5 div.sk-item::before, #sk-container-id-5 div.sk-parallel-item::before {content: \"\";position: absolute;border-left: 1px solid gray;box-sizing: border-box;top: 0;bottom: 0;left: 50%;z-index: -1;}#sk-container-id-5 div.sk-parallel-item {display: flex;flex-direction: column;z-index: 1;position: relative;background-color: white;}#sk-container-id-5 div.sk-parallel-item:first-child::after {align-self: flex-end;width: 50%;}#sk-container-id-5 div.sk-parallel-item:last-child::after {align-self: flex-start;width: 50%;}#sk-container-id-5 div.sk-parallel-item:only-child::after {width: 0;}#sk-container-id-5 div.sk-dashed-wrapped {border: 1px dashed gray;margin: 0 0.4em 0.5em 0.4em;box-sizing: border-box;padding-bottom: 0.4em;background-color: white;}#sk-container-id-5 div.sk-label label {font-family: monospace;font-weight: bold;display: inline-block;line-height: 1.2em;}#sk-container-id-5 div.sk-label-container {text-align: center;}#sk-container-id-5 div.sk-container {/* jupyter's `normalize.less` sets `[hidden] { display: none; }` but bootstrap.min.css set `[hidden] { display: none !important; }` so we also need the `!important` here to be able to override the default hidden behavior on the sphinx rendered scikit-learn.org. See: https://github.com/scikit-learn/scikit-learn/issues/21755 */display: inline-block !important;position: relative;}#sk-container-id-5 div.sk-text-repr-fallback {display: none;}</style><div id=\"sk-container-id-5\" class=\"sk-top-container\"><div class=\"sk-text-repr-fallback\"><pre>XGBClassifier(base_score=None, booster=None, callbacks=None,\n",
       "              colsample_bylevel=0.6, colsample_bynode=None,\n",
       "              colsample_bytree=0.8, early_stopping_rounds=None,\n",
       "              enable_categorical=False, eval_metric=None, feature_types=None,\n",
       "              gamma=None, gpu_id=None, grow_policy=None, importance_type=None,\n",
       "              interaction_constraints=None, learning_rate=0.1, max_bin=None,\n",
       "              max_cat_threshold=None, max_cat_to_onehot=None,\n",
       "              max_delta_step=None, max_depth=6, max_leaves=None,\n",
       "              min_child_weight=None, missing=nan, monotone_constraints=None,\n",
       "              n_estimators=750, n_jobs=None, num_parallel_tree=None,\n",
       "              objective=&#x27;multi:softprob&#x27;, predictor=None, ...)</pre><b>In a Jupyter environment, please rerun this cell to show the HTML representation or trust the notebook. <br />On GitHub, the HTML representation is unable to render, please try loading this page with nbviewer.org.</b></div><div class=\"sk-container\" hidden><div class=\"sk-item\"><div class=\"sk-estimator sk-toggleable\"><input class=\"sk-toggleable__control sk-hidden--visually\" id=\"sk-estimator-id-5\" type=\"checkbox\" checked><label for=\"sk-estimator-id-5\" class=\"sk-toggleable__label sk-toggleable__label-arrow\">XGBClassifier</label><div class=\"sk-toggleable__content\"><pre>XGBClassifier(base_score=None, booster=None, callbacks=None,\n",
       "              colsample_bylevel=0.6, colsample_bynode=None,\n",
       "              colsample_bytree=0.8, early_stopping_rounds=None,\n",
       "              enable_categorical=False, eval_metric=None, feature_types=None,\n",
       "              gamma=None, gpu_id=None, grow_policy=None, importance_type=None,\n",
       "              interaction_constraints=None, learning_rate=0.1, max_bin=None,\n",
       "              max_cat_threshold=None, max_cat_to_onehot=None,\n",
       "              max_delta_step=None, max_depth=6, max_leaves=None,\n",
       "              min_child_weight=None, missing=nan, monotone_constraints=None,\n",
       "              n_estimators=750, n_jobs=None, num_parallel_tree=None,\n",
       "              objective=&#x27;multi:softprob&#x27;, predictor=None, ...)</pre></div></div></div></div></div>"
      ],
      "text/plain": [
       "XGBClassifier(base_score=None, booster=None, callbacks=None,\n",
       "              colsample_bylevel=0.6, colsample_bynode=None,\n",
       "              colsample_bytree=0.8, early_stopping_rounds=None,\n",
       "              enable_categorical=False, eval_metric=None, feature_types=None,\n",
       "              gamma=None, gpu_id=None, grow_policy=None, importance_type=None,\n",
       "              interaction_constraints=None, learning_rate=0.1, max_bin=None,\n",
       "              max_cat_threshold=None, max_cat_to_onehot=None,\n",
       "              max_delta_step=None, max_depth=6, max_leaves=None,\n",
       "              min_child_weight=None, missing=nan, monotone_constraints=None,\n",
       "              n_estimators=750, n_jobs=None, num_parallel_tree=None,\n",
       "              objective='multi:softprob', predictor=None, ...)"
      ]
     },
     "execution_count": 50,
     "metadata": {},
     "output_type": "execute_result"
    }
   ],
   "source": [
    "xgb=XGBClassifier(n_estimators=750, max_depth=6, learning_rate=0.1,colsample_bylevel=0.6,colsample_bytree= 0.8)\n",
    "xgb.fit(X_train_vector, y_train_rs)"
   ]
  },
  {
   "cell_type": "code",
   "execution_count": 38,
   "metadata": {},
   "outputs": [
    {
     "data": {
      "text/html": [
       "<style>#sk-container-id-2 {color: black;}#sk-container-id-2 pre{padding: 0;}#sk-container-id-2 div.sk-toggleable {background-color: white;}#sk-container-id-2 label.sk-toggleable__label {cursor: pointer;display: block;width: 100%;margin-bottom: 0;padding: 0.3em;box-sizing: border-box;text-align: center;}#sk-container-id-2 label.sk-toggleable__label-arrow:before {content: \"▸\";float: left;margin-right: 0.25em;color: #696969;}#sk-container-id-2 label.sk-toggleable__label-arrow:hover:before {color: black;}#sk-container-id-2 div.sk-estimator:hover label.sk-toggleable__label-arrow:before {color: black;}#sk-container-id-2 div.sk-toggleable__content {max-height: 0;max-width: 0;overflow: hidden;text-align: left;background-color: #f0f8ff;}#sk-container-id-2 div.sk-toggleable__content pre {margin: 0.2em;color: black;border-radius: 0.25em;background-color: #f0f8ff;}#sk-container-id-2 input.sk-toggleable__control:checked~div.sk-toggleable__content {max-height: 200px;max-width: 100%;overflow: auto;}#sk-container-id-2 input.sk-toggleable__control:checked~label.sk-toggleable__label-arrow:before {content: \"▾\";}#sk-container-id-2 div.sk-estimator input.sk-toggleable__control:checked~label.sk-toggleable__label {background-color: #d4ebff;}#sk-container-id-2 div.sk-label input.sk-toggleable__control:checked~label.sk-toggleable__label {background-color: #d4ebff;}#sk-container-id-2 input.sk-hidden--visually {border: 0;clip: rect(1px 1px 1px 1px);clip: rect(1px, 1px, 1px, 1px);height: 1px;margin: -1px;overflow: hidden;padding: 0;position: absolute;width: 1px;}#sk-container-id-2 div.sk-estimator {font-family: monospace;background-color: #f0f8ff;border: 1px dotted black;border-radius: 0.25em;box-sizing: border-box;margin-bottom: 0.5em;}#sk-container-id-2 div.sk-estimator:hover {background-color: #d4ebff;}#sk-container-id-2 div.sk-parallel-item::after {content: \"\";width: 100%;border-bottom: 1px solid gray;flex-grow: 1;}#sk-container-id-2 div.sk-label:hover label.sk-toggleable__label {background-color: #d4ebff;}#sk-container-id-2 div.sk-serial::before {content: \"\";position: absolute;border-left: 1px solid gray;box-sizing: border-box;top: 0;bottom: 0;left: 50%;z-index: 0;}#sk-container-id-2 div.sk-serial {display: flex;flex-direction: column;align-items: center;background-color: white;padding-right: 0.2em;padding-left: 0.2em;position: relative;}#sk-container-id-2 div.sk-item {position: relative;z-index: 1;}#sk-container-id-2 div.sk-parallel {display: flex;align-items: stretch;justify-content: center;background-color: white;position: relative;}#sk-container-id-2 div.sk-item::before, #sk-container-id-2 div.sk-parallel-item::before {content: \"\";position: absolute;border-left: 1px solid gray;box-sizing: border-box;top: 0;bottom: 0;left: 50%;z-index: -1;}#sk-container-id-2 div.sk-parallel-item {display: flex;flex-direction: column;z-index: 1;position: relative;background-color: white;}#sk-container-id-2 div.sk-parallel-item:first-child::after {align-self: flex-end;width: 50%;}#sk-container-id-2 div.sk-parallel-item:last-child::after {align-self: flex-start;width: 50%;}#sk-container-id-2 div.sk-parallel-item:only-child::after {width: 0;}#sk-container-id-2 div.sk-dashed-wrapped {border: 1px dashed gray;margin: 0 0.4em 0.5em 0.4em;box-sizing: border-box;padding-bottom: 0.4em;background-color: white;}#sk-container-id-2 div.sk-label label {font-family: monospace;font-weight: bold;display: inline-block;line-height: 1.2em;}#sk-container-id-2 div.sk-label-container {text-align: center;}#sk-container-id-2 div.sk-container {/* jupyter's `normalize.less` sets `[hidden] { display: none; }` but bootstrap.min.css set `[hidden] { display: none !important; }` so we also need the `!important` here to be able to override the default hidden behavior on the sphinx rendered scikit-learn.org. See: https://github.com/scikit-learn/scikit-learn/issues/21755 */display: inline-block !important;position: relative;}#sk-container-id-2 div.sk-text-repr-fallback {display: none;}</style><div id=\"sk-container-id-2\" class=\"sk-top-container\"><div class=\"sk-text-repr-fallback\"><pre>SVC(C=10, probability=True)</pre><b>In a Jupyter environment, please rerun this cell to show the HTML representation or trust the notebook. <br />On GitHub, the HTML representation is unable to render, please try loading this page with nbviewer.org.</b></div><div class=\"sk-container\" hidden><div class=\"sk-item\"><div class=\"sk-estimator sk-toggleable\"><input class=\"sk-toggleable__control sk-hidden--visually\" id=\"sk-estimator-id-2\" type=\"checkbox\" checked><label for=\"sk-estimator-id-2\" class=\"sk-toggleable__label sk-toggleable__label-arrow\">SVC</label><div class=\"sk-toggleable__content\"><pre>SVC(C=10, probability=True)</pre></div></div></div></div></div>"
      ],
      "text/plain": [
       "SVC(C=10, probability=True)"
      ]
     },
     "execution_count": 38,
     "metadata": {},
     "output_type": "execute_result"
    }
   ],
   "source": [
    "svm=SVC(kernel='rbf',gamma='scale',C=10,probability=True)\n",
    "svm.fit(X_train_vector, y_train_rs)"
   ]
  },
  {
   "cell_type": "code",
   "execution_count": 39,
   "metadata": {},
   "outputs": [
    {
     "data": {
      "text/html": [
       "<style>#sk-container-id-3 {color: black;}#sk-container-id-3 pre{padding: 0;}#sk-container-id-3 div.sk-toggleable {background-color: white;}#sk-container-id-3 label.sk-toggleable__label {cursor: pointer;display: block;width: 100%;margin-bottom: 0;padding: 0.3em;box-sizing: border-box;text-align: center;}#sk-container-id-3 label.sk-toggleable__label-arrow:before {content: \"▸\";float: left;margin-right: 0.25em;color: #696969;}#sk-container-id-3 label.sk-toggleable__label-arrow:hover:before {color: black;}#sk-container-id-3 div.sk-estimator:hover label.sk-toggleable__label-arrow:before {color: black;}#sk-container-id-3 div.sk-toggleable__content {max-height: 0;max-width: 0;overflow: hidden;text-align: left;background-color: #f0f8ff;}#sk-container-id-3 div.sk-toggleable__content pre {margin: 0.2em;color: black;border-radius: 0.25em;background-color: #f0f8ff;}#sk-container-id-3 input.sk-toggleable__control:checked~div.sk-toggleable__content {max-height: 200px;max-width: 100%;overflow: auto;}#sk-container-id-3 input.sk-toggleable__control:checked~label.sk-toggleable__label-arrow:before {content: \"▾\";}#sk-container-id-3 div.sk-estimator input.sk-toggleable__control:checked~label.sk-toggleable__label {background-color: #d4ebff;}#sk-container-id-3 div.sk-label input.sk-toggleable__control:checked~label.sk-toggleable__label {background-color: #d4ebff;}#sk-container-id-3 input.sk-hidden--visually {border: 0;clip: rect(1px 1px 1px 1px);clip: rect(1px, 1px, 1px, 1px);height: 1px;margin: -1px;overflow: hidden;padding: 0;position: absolute;width: 1px;}#sk-container-id-3 div.sk-estimator {font-family: monospace;background-color: #f0f8ff;border: 1px dotted black;border-radius: 0.25em;box-sizing: border-box;margin-bottom: 0.5em;}#sk-container-id-3 div.sk-estimator:hover {background-color: #d4ebff;}#sk-container-id-3 div.sk-parallel-item::after {content: \"\";width: 100%;border-bottom: 1px solid gray;flex-grow: 1;}#sk-container-id-3 div.sk-label:hover label.sk-toggleable__label {background-color: #d4ebff;}#sk-container-id-3 div.sk-serial::before {content: \"\";position: absolute;border-left: 1px solid gray;box-sizing: border-box;top: 0;bottom: 0;left: 50%;z-index: 0;}#sk-container-id-3 div.sk-serial {display: flex;flex-direction: column;align-items: center;background-color: white;padding-right: 0.2em;padding-left: 0.2em;position: relative;}#sk-container-id-3 div.sk-item {position: relative;z-index: 1;}#sk-container-id-3 div.sk-parallel {display: flex;align-items: stretch;justify-content: center;background-color: white;position: relative;}#sk-container-id-3 div.sk-item::before, #sk-container-id-3 div.sk-parallel-item::before {content: \"\";position: absolute;border-left: 1px solid gray;box-sizing: border-box;top: 0;bottom: 0;left: 50%;z-index: -1;}#sk-container-id-3 div.sk-parallel-item {display: flex;flex-direction: column;z-index: 1;position: relative;background-color: white;}#sk-container-id-3 div.sk-parallel-item:first-child::after {align-self: flex-end;width: 50%;}#sk-container-id-3 div.sk-parallel-item:last-child::after {align-self: flex-start;width: 50%;}#sk-container-id-3 div.sk-parallel-item:only-child::after {width: 0;}#sk-container-id-3 div.sk-dashed-wrapped {border: 1px dashed gray;margin: 0 0.4em 0.5em 0.4em;box-sizing: border-box;padding-bottom: 0.4em;background-color: white;}#sk-container-id-3 div.sk-label label {font-family: monospace;font-weight: bold;display: inline-block;line-height: 1.2em;}#sk-container-id-3 div.sk-label-container {text-align: center;}#sk-container-id-3 div.sk-container {/* jupyter's `normalize.less` sets `[hidden] { display: none; }` but bootstrap.min.css set `[hidden] { display: none !important; }` so we also need the `!important` here to be able to override the default hidden behavior on the sphinx rendered scikit-learn.org. See: https://github.com/scikit-learn/scikit-learn/issues/21755 */display: inline-block !important;position: relative;}#sk-container-id-3 div.sk-text-repr-fallback {display: none;}</style><div id=\"sk-container-id-3\" class=\"sk-top-container\"><div class=\"sk-text-repr-fallback\"><pre>LogisticRegression(penalty=None, solver=&#x27;newton-cg&#x27;)</pre><b>In a Jupyter environment, please rerun this cell to show the HTML representation or trust the notebook. <br />On GitHub, the HTML representation is unable to render, please try loading this page with nbviewer.org.</b></div><div class=\"sk-container\" hidden><div class=\"sk-item\"><div class=\"sk-estimator sk-toggleable\"><input class=\"sk-toggleable__control sk-hidden--visually\" id=\"sk-estimator-id-3\" type=\"checkbox\" checked><label for=\"sk-estimator-id-3\" class=\"sk-toggleable__label sk-toggleable__label-arrow\">LogisticRegression</label><div class=\"sk-toggleable__content\"><pre>LogisticRegression(penalty=None, solver=&#x27;newton-cg&#x27;)</pre></div></div></div></div></div>"
      ],
      "text/plain": [
       "LogisticRegression(penalty=None, solver='newton-cg')"
      ]
     },
     "execution_count": 39,
     "metadata": {},
     "output_type": "execute_result"
    }
   ],
   "source": [
    "lr=LogisticRegression(solver='newton-cg',penalty=None)\n",
    "lr.fit(X_train_vector, y_train_rs)"
   ]
  },
  {
   "cell_type": "code",
   "execution_count": 51,
   "metadata": {},
   "outputs": [
    {
     "name": "stdout",
     "output_type": "stream",
     "text": [
      "SVM: 0.9540816326530612\n",
      "XGBoost: 0.9585459183673469\n",
      "Logistics Regression: 0.9534438775510204\n"
     ]
    }
   ],
   "source": [
    "## SVM,XGboost and logistics regression all have similar performance\n",
    "print('SVM:',svm.score(X_test_vector,y_test))\n",
    "print('XGBoost:',xgb.score(X_test_vector,y_test))\n",
    "print('Logistics Regression:',lr.score(X_test_vector,y_test))"
   ]
  },
  {
   "cell_type": "code",
   "execution_count": 52,
   "metadata": {},
   "outputs": [
    {
     "name": "stdout",
     "output_type": "stream",
     "text": [
      "SVM: \n",
      "                     precision    recall  f1-score   support\n",
      "\n",
      "       AttemptFail       0.82      0.74      0.78        43\n",
      "AvailableForPickup       0.97      0.93      0.95        92\n",
      "         Delivered       0.97      0.98      0.97       372\n",
      "         Exception       0.81      0.76      0.79        55\n",
      "         InTransit       0.96      0.98      0.97       933\n",
      "      InfoReceived       0.87      0.71      0.78        38\n",
      "    OutForDelivery       0.97      0.86      0.91        35\n",
      "\n",
      "          accuracy                           0.95      1568\n",
      "         macro avg       0.91      0.85      0.88      1568\n",
      "      weighted avg       0.95      0.95      0.95      1568\n",
      "\n"
     ]
    }
   ],
   "source": [
    "## further comparison\n",
    "from sklearn.metrics import classification_report\n",
    "\n",
    "print('SVM: \\n', classification_report(y_test,svm.predict(X_test_vector),target_names=code_map.values()))"
   ]
  },
  {
   "cell_type": "code",
   "execution_count": 53,
   "metadata": {},
   "outputs": [
    {
     "name": "stdout",
     "output_type": "stream",
     "text": [
      "XGBoost: \n",
      "                     precision    recall  f1-score   support\n",
      "\n",
      "       AttemptFail       0.83      0.81      0.82        43\n",
      "AvailableForPickup       0.98      0.97      0.97        92\n",
      "         Delivered       0.98      0.97      0.97       372\n",
      "         Exception       0.78      0.78      0.78        55\n",
      "         InTransit       0.97      0.98      0.97       933\n",
      "      InfoReceived       0.88      0.79      0.83        38\n",
      "    OutForDelivery       0.97      0.83      0.89        35\n",
      "\n",
      "          accuracy                           0.96      1568\n",
      "         macro avg       0.91      0.88      0.89      1568\n",
      "      weighted avg       0.96      0.96      0.96      1568\n",
      "\n"
     ]
    }
   ],
   "source": [
    "print('XGBoost: \\n', classification_report(y_test,xgb.predict(X_test_vector),target_names=code_map.values()))"
   ]
  },
  {
   "cell_type": "code",
   "execution_count": 54,
   "metadata": {},
   "outputs": [
    {
     "name": "stdout",
     "output_type": "stream",
     "text": [
      "Logistics Regression: \n",
      "                     precision    recall  f1-score   support\n",
      "\n",
      "       AttemptFail       0.88      0.81      0.84        43\n",
      "AvailableForPickup       0.98      0.93      0.96        92\n",
      "         Delivered       0.96      0.98      0.97       372\n",
      "         Exception       0.76      0.75      0.75        55\n",
      "         InTransit       0.97      0.98      0.97       933\n",
      "      InfoReceived       0.81      0.66      0.72        38\n",
      "    OutForDelivery       0.91      0.86      0.88        35\n",
      "\n",
      "          accuracy                           0.95      1568\n",
      "         macro avg       0.89      0.85      0.87      1568\n",
      "      weighted avg       0.95      0.95      0.95      1568\n",
      "\n"
     ]
    }
   ],
   "source": [
    "print('Logistics Regression: \\n', classification_report(y_test,lr.predict(X_test_vector),target_names=code_map.values()))"
   ]
  },
  {
   "cell_type": "code",
   "execution_count": 71,
   "metadata": {},
   "outputs": [],
   "source": [
    "## Choose XGBoost as it has higher F1 score on delivered/available for pickup"
   ]
  },
  {
   "cell_type": "code",
   "execution_count": null,
   "metadata": {},
   "outputs": [],
   "source": [
    "# ## Three algorithm all work well, let's ensemble them\n",
    "# from sklearn.ensemble import VotingClassifier\n",
    "# classifiers=[('SVM',svm),\n",
    "#              ('XGBoost',xgb),\n",
    "#             ('Logistics Regression',lr)]\n",
    "# clf=VotingClassifier(estimators=classifiers,voting='soft')\n",
    "# clf.fit(X_train_vector,y_train)\n",
    "# clf.score(X_test_vector,y_test)"
   ]
  },
  {
   "cell_type": "markdown",
   "metadata": {},
   "source": [
    "## Model Evaluation"
   ]
  },
  {
   "cell_type": "code",
   "execution_count": 56,
   "metadata": {},
   "outputs": [],
   "source": [
    "from sklearn.metrics import confusion_matrix, ConfusionMatrixDisplay, classification_report"
   ]
  },
  {
   "cell_type": "code",
   "execution_count": 57,
   "metadata": {},
   "outputs": [
    {
     "data": {
      "image/png": "[encoded data removed]",
      "text/plain": [
       "<Figure size 432x288 with 2 Axes>"
      ]
     },
     "metadata": {
      "needs_background": "light"
     },
     "output_type": "display_data"
    }
   ],
   "source": [
    "cm2=confusion_matrix(y_train_rs,xgb.predict(X_train_vector),labels=np.arange(0,7))\n",
    "disp_train = ConfusionMatrixDisplay(confusion_matrix=cm2,display_labels=code_map.values())\n",
    "disp_train.plot()\n",
    "plt.xticks(rotation=90)\n",
    "plt.show()"
   ]
  },
  {
   "cell_type": "code",
   "execution_count": 58,
   "metadata": {},
   "outputs": [
    {
     "data": {
      "image/png": "[encoded data removed]",
      "text/plain": [
       "<Figure size 432x288 with 2 Axes>"
      ]
     },
     "metadata": {
      "needs_background": "light"
     },
     "output_type": "display_data"
    }
   ],
   "source": [
    "cm1=confusion_matrix(y_test,xgb.predict(X_test_vector),labels=np.arange(0,7))\n",
    "disp_test = ConfusionMatrixDisplay(confusion_matrix=cm1,display_labels=code_map.values())\n",
    "disp_test.plot()\n",
    "plt.xticks(rotation=90)\n",
    "plt.show()"
   ]
  },
  {
   "cell_type": "code",
   "execution_count": 59,
   "metadata": {},
   "outputs": [
    {
     "name": "stdout",
     "output_type": "stream",
     "text": [
      "65\n"
     ]
    },
    {
     "data": {
      "text/html": [
       "<div>\n",
       "<style scoped>\n",
       "    .dataframe tbody tr th:only-of-type {\n",
       "        vertical-align: middle;\n",
       "    }\n",
       "\n",
       "    .dataframe tbody tr th {\n",
       "        vertical-align: top;\n",
       "    }\n",
       "\n",
       "    .dataframe thead th {\n",
       "        text-align: right;\n",
       "    }\n",
       "</style>\n",
       "<table border=\"1\" class=\"dataframe\">\n",
       "  <thead>\n",
       "    <tr style=\"text-align: right;\">\n",
       "      <th></th>\n",
       "      <th>0</th>\n",
       "      <th>0</th>\n",
       "      <th>0</th>\n",
       "      <th>true label</th>\n",
       "      <th>predict label</th>\n",
       "    </tr>\n",
       "  </thead>\n",
       "  <tbody>\n",
       "    <tr>\n",
       "      <th>24</th>\n",
       "      <td>Nadejście przesyłki</td>\n",
       "      <td>5</td>\n",
       "      <td>4</td>\n",
       "      <td>InfoReceived</td>\n",
       "      <td>InTransit</td>\n",
       "    </tr>\n",
       "    <tr>\n",
       "      <th>25</th>\n",
       "      <td>Modtagelse nægtet.</td>\n",
       "      <td>3</td>\n",
       "      <td>4</td>\n",
       "      <td>Exception</td>\n",
       "      <td>InTransit</td>\n",
       "    </tr>\n",
       "    <tr>\n",
       "      <th>26</th>\n",
       "      <td>Unable to deliver  Reason: insuf address</td>\n",
       "      <td>3</td>\n",
       "      <td>0</td>\n",
       "      <td>Exception</td>\n",
       "      <td>AttemptFail</td>\n",
       "    </tr>\n",
       "    <tr>\n",
       "      <th>35</th>\n",
       "      <td>The Salvador Lara Ybarra Partner scans the pac...</td>\n",
       "      <td>5</td>\n",
       "      <td>4</td>\n",
       "      <td>InfoReceived</td>\n",
       "      <td>InTransit</td>\n",
       "    </tr>\n",
       "    <tr>\n",
       "      <th>45</th>\n",
       "      <td>PENDING_PICKUP</td>\n",
       "      <td>5</td>\n",
       "      <td>4</td>\n",
       "      <td>InfoReceived</td>\n",
       "      <td>InTransit</td>\n",
       "    </tr>\n",
       "    <tr>\n",
       "      <th>...</th>\n",
       "      <td>...</td>\n",
       "      <td>...</td>\n",
       "      <td>...</td>\n",
       "      <td>...</td>\n",
       "      <td>...</td>\n",
       "    </tr>\n",
       "    <tr>\n",
       "      <th>1464</th>\n",
       "      <td>In consegna</td>\n",
       "      <td>6</td>\n",
       "      <td>4</td>\n",
       "      <td>OutForDelivery</td>\n",
       "      <td>InTransit</td>\n",
       "    </tr>\n",
       "    <tr>\n",
       "      <th>1488</th>\n",
       "      <td>Siunta įteikta gavėjui</td>\n",
       "      <td>2</td>\n",
       "      <td>4</td>\n",
       "      <td>Delivered</td>\n",
       "      <td>InTransit</td>\n",
       "    </tr>\n",
       "    <tr>\n",
       "      <th>1496</th>\n",
       "      <td>As requested, the UPS My Choice delivery chang...</td>\n",
       "      <td>4</td>\n",
       "      <td>2</td>\n",
       "      <td>InTransit</td>\n",
       "      <td>Delivered</td>\n",
       "    </tr>\n",
       "    <tr>\n",
       "      <th>1540</th>\n",
       "      <td>Arrived at DHL Delivery Facility MONTERREY - M...</td>\n",
       "      <td>5</td>\n",
       "      <td>4</td>\n",
       "      <td>InfoReceived</td>\n",
       "      <td>InTransit</td>\n",
       "    </tr>\n",
       "    <tr>\n",
       "      <th>1548</th>\n",
       "      <td>Order placed</td>\n",
       "      <td>5</td>\n",
       "      <td>4</td>\n",
       "      <td>InfoReceived</td>\n",
       "      <td>InTransit</td>\n",
       "    </tr>\n",
       "  </tbody>\n",
       "</table>\n",
       "<p>65 rows × 5 columns</p>\n",
       "</div>"
      ],
      "text/plain": [
       "                                                      0  0  0      true label  \\\n",
       "24                                  Nadejście przesyłki  5  4    InfoReceived   \n",
       "25                                   Modtagelse nægtet.  3  4       Exception   \n",
       "26             Unable to deliver  Reason: insuf address  3  0       Exception   \n",
       "35    The Salvador Lara Ybarra Partner scans the pac...  5  4    InfoReceived   \n",
       "45                                       PENDING_PICKUP  5  4    InfoReceived   \n",
       "...                                                 ... .. ..             ...   \n",
       "1464                                        In consegna  6  4  OutForDelivery   \n",
       "1488                             Siunta įteikta gavėjui  2  4       Delivered   \n",
       "1496  As requested, the UPS My Choice delivery chang...  4  2       InTransit   \n",
       "1540  Arrived at DHL Delivery Facility MONTERREY - M...  5  4    InfoReceived   \n",
       "1548                                       Order placed  5  4    InfoReceived   \n",
       "\n",
       "     predict label  \n",
       "24       InTransit  \n",
       "25       InTransit  \n",
       "26     AttemptFail  \n",
       "35       InTransit  \n",
       "45       InTransit  \n",
       "...            ...  \n",
       "1464     InTransit  \n",
       "1488     InTransit  \n",
       "1496     Delivered  \n",
       "1540     InTransit  \n",
       "1548     InTransit  \n",
       "\n",
       "[65 rows x 5 columns]"
      ]
     },
     "execution_count": 59,
     "metadata": {},
     "output_type": "execute_result"
    }
   ],
   "source": [
    "## Print out wrongly classified messages\n",
    "dfx=pd.DataFrame(X_test)\n",
    "dfy=pd.DataFrame(y_test)\n",
    "dfy_=pd.DataFrame(xgb.predict(X_test_vector))\n",
    "df_check=pd.concat([dfx,dfy,dfy_],axis=1)\n",
    "df_check['true label']=df_check.iloc[:,1].map(code_map)\n",
    "df_check['predict label']=df_check.iloc[:,2].map(code_map)\n",
    "print(len(df_check[df_check['true label']!=df_check['predict label']]))\n",
    "df_check[df_check['true label']!=df_check['predict label']]"
   ]
  },
  {
   "cell_type": "code",
   "execution_count": 60,
   "metadata": {},
   "outputs": [],
   "source": [
    "## construct pipeline\n",
    "from sklearn.pipeline import Pipeline\n",
    "pipe = Pipeline([('vectorizer', vectorizer), ('XGBoost', xgb)])"
   ]
  },
  {
   "cell_type": "code",
   "execution_count": 61,
   "metadata": {},
   "outputs": [],
   "source": [
    "def status_classify(status):\n",
    "    if type(status)==str:\n",
    "        status=[status]\n",
    "    CLASS=pipe.predict(status)\n",
    "    LABEL=[code_map[target] for target in CLASS]\n",
    "    PROB=pipe.predict_proba(status)\n",
    "    PROB.sort(axis=1)\n",
    "    return list(zip(LABEL,PROB[:,-1]))"
   ]
  },
  {
   "cell_type": "code",
   "execution_count": 68,
   "metadata": {},
   "outputs": [
    {
     "data": {
      "text/plain": [
       "[('Delivered', 0.90210766)]"
      ]
     },
     "execution_count": 68,
     "metadata": {},
     "output_type": "execute_result"
    }
   ],
   "source": [
    "status_classify('Your item was delivered to the front desk, reception area, or mail room at 12:19 pm on October 17, 2022 in CHULA VISTA, CA 91911.')"
   ]
  },
  {
   "cell_type": "code",
   "execution_count": null,
   "metadata": {},
   "outputs": [],
   "source": []
  }
 ],
 "metadata": {
  "kernelspec": {
   "display_name": "base",
   "language": "python",
   "name": "python3"
  },
  "language_info": {
   "codemirror_mode": {
    "name": "ipython",
    "version": 3
   },
   "file_extension": ".py",
   "mimetype": "text/x-python",
   "name": "python",
   "nbconvert_exporter": "python",
   "pygments_lexer": "ipython3",
   "version": "3.9.5"
  },
  "orig_nbformat": 4
 },
 "nbformat": 4,
 "nbformat_minor": 2
}
